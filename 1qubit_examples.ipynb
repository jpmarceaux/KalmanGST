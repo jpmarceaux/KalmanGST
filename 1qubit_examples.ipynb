{
 "cells": [
  {
   "cell_type": "code",
   "execution_count": 1,
   "id": "acc95818-4aed-4fe6-bea4-56ef11033e58",
   "metadata": {},
   "outputs": [],
   "source": [
    "from kalman_gst import *  \n",
    "from pygsti.modelpacks import smq1Q_XYI as std"
   ]
  },
  {
   "cell_type": "code",
   "execution_count": 2,
   "id": "8ba736cd-e701-4239-853d-9001080e68ed",
   "metadata": {},
   "outputs": [],
   "source": [
    "SAMPLES = 256"
   ]
  },
  {
   "cell_type": "code",
   "execution_count": 3,
   "id": "545bb707-36f8-45a3-80df-96d2386137d3",
   "metadata": {},
   "outputs": [],
   "source": [
    "# setup the FOGI model\n",
    "mdl_datagen = std.target_model('H+s')\n",
    "basis1q = pygsti.baseobjs.Basis.cast('pp', 4)\n",
    "gauge_basis = pygsti.baseobjs.CompleteElementaryErrorgenBasis(\n",
    "                        basis1q, mdl_datagen.state_space, elementary_errorgen_types='HS')\n",
    "mdl_datagen.setup_fogi(gauge_basis, None, None, reparameterize=True,\n",
    "                     dependent_fogi_action='drop', include_spam=True)\n",
    "target_model = mdl_datagen.copy()"
   ]
  },
  {
   "cell_type": "code",
   "execution_count": 4,
   "id": "c4d48089-ae31-40f9-a57a-dbbded9b20ac",
   "metadata": {},
   "outputs": [
    {
     "data": {
      "text/plain": [
       "('H(X:0)_[]',\n",
       " 'H(Y:0)_[]',\n",
       " 'H(Z:0)_[]',\n",
       " 'S(X:0)_[]',\n",
       " 'S(Y:0)_[]',\n",
       " 'S(Z:0)_[]',\n",
       " 'H(X:0)_Gxpi2:0',\n",
       " 'S(X:0)_Gxpi2:0',\n",
       " '(0.5 S(Y:0) + 0.5 S(Z:0))_Gxpi2:0',\n",
       " 'H(Y:0)_Gypi2:0',\n",
       " '(0.5 S(X:0) + 0.5 S(Z:0))_Gypi2:0',\n",
       " 'S(Y:0)_Gypi2:0',\n",
       " 'ga(-H(Z:0))_Gypi2:0 - ga(-H(Z:0))_Gxpi2:0',\n",
       " 'ga(H(Y:0))_rho0 - ga(H(Y:0))_Gxpi2:0',\n",
       " 'ga(-H(Y:0))_Mdefault - ga(-H(Y:0))_Gxpi2:0',\n",
       " 'ga(H(X:0))_rho0 - ga(H(X:0))_Gypi2:0',\n",
       " 'ga(-H(X:0))_Mdefault - ga(-H(X:0))_Gypi2:0',\n",
       " 'ga(-0.5 S(X:0) - 0.5 S(Y:0))_Mdefault - ga(-0.5 S(X:0) - 0.5 S(Y:0))_rho0')"
      ]
     },
     "execution_count": 4,
     "metadata": {},
     "output_type": "execute_result"
    }
   ],
   "source": [
    "# model labels\n",
    "mdl_datagen.fogi_errorgen_component_labels()"
   ]
  },
  {
   "cell_type": "code",
   "execution_count": 5,
   "id": "14e8f964-5abf-4b63-b703-c4107e4c87ab",
   "metadata": {},
   "outputs": [
    {
     "name": "stdout",
     "output_type": "stream",
     "text": [
      "['H(X:0)_[]', 'H(Y:0)_[]', 'H(Z:0)_[]', 'H(X:0)_Gxpi2:0', 'H(Y:0)_Gypi2:0']\n"
     ]
    }
   ],
   "source": [
    "# single out hamiltonian parameters\n",
    "hamiltonian_params = [0, 1, 2, 6, 9]\n",
    "print([mdl_datagen.fogi_errorgen_component_labels()[i] for i in hamiltonian_params])"
   ]
  },
  {
   "cell_type": "code",
   "execution_count": 6,
   "id": "9de8d612-acb8-4157-a8a7-20e78e02e08a",
   "metadata": {},
   "outputs": [
    {
     "name": "stdout",
     "output_type": "stream",
     "text": [
      "hamiltonian-only MSE with target 0.013944923672360084\n",
      "hamiltonian-only agsi with target 0.0027790049441690943\n",
      "MSE with target 0.013947191474393652\n",
      "agi with target 0.0034387883628381744\n"
     ]
    }
   ],
   "source": [
    "# add noise to the stochastic and hamiltonian parts of the FOGI rates\n",
    "SEED = 3122\n",
    "np.random.seed(SEED)\n",
    "\n",
    "max_stochastic_error_rate = 0.001\n",
    "hamiltonian_error_var = 0.05\n",
    "ar = mdl_datagen.fogi_errorgen_components_array(include_fogv=False, normalized_elem_gens=True)\n",
    "\n",
    "\n",
    "# add hamiltonian noise\n",
    "ar[0:3] = np.random.normal(0, hamiltonian_error_var, 3)\n",
    "ar[9] = np.random.normal(0, hamiltonian_error_var)\n",
    "ar[6] = np.random.normal(0, hamiltonian_error_var)\n",
    "mdl_datagen.set_fogi_errorgen_components_array(ar, include_fogv=False, normalized_elem_gens=True)\n",
    "print('hamiltonian-only MSE with target', mserror(mdl_datagen, target_model))\n",
    "print('hamiltonian-only agsi with target', avg_gs_infidelity(mdl_datagen, target_model))\n",
    "\n",
    "# add stochastic noise\n",
    "ar[3:6] = max_stochastic_error_rate*np.random.rand(3)\n",
    "ar[7:9] = max_stochastic_error_rate*np.random.rand(2)\n",
    "ar[10:12] = max_stochastic_error_rate*np.random.rand(2)\n",
    "mdl_datagen.set_fogi_errorgen_components_array(ar, include_fogv=False, normalized_elem_gens=True)\n",
    "\n",
    "print('MSE with target', mserror(mdl_datagen, target_model))\n",
    "print('agi with target', avg_gs_infidelity(mdl_datagen, target_model))"
   ]
  },
  {
   "cell_type": "code",
   "execution_count": 7,
   "id": "524c46dc-89a1-4c6b-8b2f-f5f97e03a9e1",
   "metadata": {},
   "outputs": [
    {
     "name": "stdout",
     "output_type": "stream",
     "text": [
      "model is cptp True\n"
     ]
    }
   ],
   "source": [
    "print('model is cptp', model_is_cptp(mdl_datagen))"
   ]
  },
  {
   "cell_type": "code",
   "execution_count": 8,
   "id": "76fa9735-e378-47ac-b296-4ae8d093babf",
   "metadata": {},
   "outputs": [],
   "source": [
    "# make a GST edesign and simulate the data\n",
    "maxLengths = [1,2,4,8,16]\n",
    "edesign = pygsti.protocols.StandardGSTDesign(target_model, std.prep_fiducials(), std.meas_fiducials(),\n",
    "                                                std.germs(), maxLengths)\n",
    "dataset = pygsti.data.simulate_data(mdl_datagen, edesign, SAMPLES, seed=SEED) #, sample_error='none')"
   ]
  },
  {
   "cell_type": "code",
   "execution_count": 9,
   "id": "00c62e7b-7332-4482-9419-46992057f7a4",
   "metadata": {},
   "outputs": [
    {
     "name": "stdout",
     "output_type": "stream",
     "text": [
      "--- Iterative GST: [##################################################] 100.0%  92 circuits ---\n",
      "Iterative GST Total Time: 1.3s\n",
      "--- Iterative GST: [##################################################] 100.0%  168 circuits ---\n",
      "Iterative GST Total Time: 1.0s\n",
      "--- Iterative GST: [##################################################] 100.0%  285 circuits ---\n",
      "Iterative GST Total Time: 1.5s\n",
      "--- Iterative GST: [##################################################] 100.0%  448 circuits ---\n",
      "Iterative GST Total Time: 2.1s\n",
      "--- Iterative GST: [##################################################] 100.0%  616 circuits ---\n",
      "Iterative GST Total Time: 2.7s\n"
     ]
    }
   ],
   "source": [
    "# make MLE estimates\n",
    "mle_estimates, edesigns = make_mle_estimates(dataset, std, target_model, maxLengths)"
   ]
  },
  {
   "cell_type": "code",
   "execution_count": 10,
   "id": "308c4880-0dfd-4469-8c21-9529f0dcec7b",
   "metadata": {},
   "outputs": [
    {
     "name": "stdout",
     "output_type": "stream",
     "text": [
      "initial MLE model is cptp False\n",
      "mse with datagen 0.0006075813425469713\n",
      "agsi with datagen -0.0019182865726703024\n"
     ]
    }
   ],
   "source": [
    "print('initial MLE model is cptp', model_is_cptp(mle_estimates[0]))\n",
    "print('mse with datagen', mserror(mdl_datagen, mle_estimates[0]))\n",
    "print('agsi with datagen', avg_gs_infidelity(mdl_datagen, mle_estimates[0]))"
   ]
  },
  {
   "cell_type": "code",
   "execution_count": 11,
   "id": "e61d22a2-23ae-4a45-aee1-cc0b51ab1ce8",
   "metadata": {},
   "outputs": [
    {
     "name": "stdout",
     "output_type": "stream",
     "text": [
      "final MLE model is cptp False\n",
      "mse with datagen 2.0799742050558297e-05\n",
      "agsi with datagen -0.0001407055508451327\n"
     ]
    }
   ],
   "source": [
    "print('final MLE model is cptp', model_is_cptp(mle_estimates[-1]))\n",
    "print('mse with datagen', mserror(mdl_datagen, mle_estimates[-1]))\n",
    "print('agsi with datagen', avg_gs_infidelity(mdl_datagen, mle_estimates[-1]))"
   ]
  },
  {
   "cell_type": "markdown",
   "id": "d41c88e0-f03e-47e0-a435-fa228a7ca127",
   "metadata": {},
   "source": [
    "### Cells below consitute a \"standard practice\" Kalman estimation routine"
   ]
  },
  {
   "cell_type": "code",
   "execution_count": 12,
   "id": "c6abbda9-ec75-4551-84ae-2ef99735ceca",
   "metadata": {},
   "outputs": [
    {
     "name": "stdout",
     "output_type": "stream",
     "text": [
      "- Sampling 10 circuits at CRB length 0 (1 of 8 depths) with seed 329483\n",
      "- Sampling 10 circuits at CRB length 1 (2 of 8 depths) with seed 329493\n",
      "- Sampling 10 circuits at CRB length 2 (3 of 8 depths) with seed 329503\n",
      "- Sampling 10 circuits at CRB length 4 (4 of 8 depths) with seed 329513\n",
      "- Sampling 10 circuits at CRB length 8 (5 of 8 depths) with seed 329523\n",
      "- Sampling 10 circuits at CRB length 16 (6 of 8 depths) with seed 329533\n",
      "- Sampling 10 circuits at CRB length 32 (7 of 8 depths) with seed 329543\n",
      "- Sampling 10 circuits at CRB length 64 (8 of 8 depths) with seed 329553\n"
     ]
    },
    {
     "name": "stderr",
     "output_type": "stream",
     "text": [
      "/home/jpmarceaux/Applications/pyGSTi/pygsti/layouts/evaltree.py:183: UserWarning: Created an evaluation tree that is inefficient: tree-size > 10 * #circuits !\n",
      "This is likely due to the fact that the circuits being simulated do not have a\n",
      "periodic structure. Consider using a different forward simulator (e.g. MapForwardSimulator).\n",
      "  _warnings.warn((\"Created an evaluation tree that is inefficient: tree-size > %d * #circuits !\\n\"\n"
     ]
    }
   ],
   "source": [
    "# run a direct RB experiment\n",
    "from pygsti.processors import CliffordCompilationRules as CCR\n",
    "compilations = {'absolute': CCR.create_standard(std.processor_spec(), 'absolute', ('paulis', '1Qcliffords'), verbosity=0),            \n",
    "                'paulieq': CCR.create_standard(std.processor_spec(), 'paulieq', ('1Qcliffords', 'allcnots'), verbosity=0)}\n",
    "depths = [0,1,2,4,8,16,32,64]\n",
    "k = 10\n",
    "# To run direct / mirror RB change CliffordRBDesign -> DirectRBDesign / MirrorRBDesign\n",
    "rb_edesign = pygsti.protocols.CliffordRBDesign(std.processor_spec(), compilations, depths, k)\n",
    "rb_dataset = pygsti.data.simulate_data(mdl_datagen, rb_edesign, 1000)\n",
    "rb_data = pygsti.protocols.ProtocolData(rb_edesign, rb_dataset)\n",
    "rb_protocol = pygsti.protocols.RB()\n",
    "rb_results = rb_protocol.run(rb_data)\n",
    "rb_rate = rb_results.fits['full'].estimates['r']"
   ]
  },
  {
   "cell_type": "code",
   "execution_count": 13,
   "id": "0e37bf0a-75fb-48b6-9b9b-fc3272636750",
   "metadata": {},
   "outputs": [],
   "source": [
    "# uncomment to recalculate model matrices\n",
    "\n",
    "# jdict = {}\n",
    "# hdict = {}\n",
    "# for circ in tqdm(edesign.circuit_lists[-1]):\n",
    "#     jdict[circ] = matrix_from_jacob(target_model.sim.dprobs(circ), 2**circ.width)\n",
    "#     hdict[circ] = tensor_from_hessian(target_model.sim.hprobs(circ), 2**circ.width)\n",
    "# pickle_dict(jdict, 'XYI_jacs')\n",
    "# pickle_dict(hdict, 'XYI_hess')"
   ]
  },
  {
   "cell_type": "code",
   "execution_count": 14,
   "id": "a02f7ced-c2e6-414e-833d-a80ed91be911",
   "metadata": {},
   "outputs": [],
   "source": [
    "# load the model jacobians and hessians\n",
    "jdict = load_dict('XYI_jacs')\n",
    "hdict = load_dict('XYI_hess')"
   ]
  },
  {
   "cell_type": "code",
   "execution_count": 15,
   "id": "ec1ad679-8687-4124-bcdd-a3ee1a9b465a",
   "metadata": {},
   "outputs": [
    {
     "name": "stderr",
     "output_type": "stream",
     "text": [
      "100%|██████████████████████████████████████████████████████████████████████████████████████████████████████████████████████████████████████████████████████████████████████████████████████████████████████| 616/616 [00:37<00:00, 16.34it/s]\n",
      "100%|██████████████████████████████████████████████████████████████████████████████████████████████████████████████████████████████████████████████████████████████████████████████████████████████████████| 616/616 [00:38<00:00, 16.08it/s]\n"
     ]
    }
   ],
   "source": [
    "# filter the dataset using an exact filter seeded at the target and mle1 estimate\n",
    "prior_covar_strength =  (rb_rate)/target_model.num_params\n",
    "prior_covar = prior_covar_strength*np.eye(target_model.num_params)\n",
    "\n",
    "ekf1 = ExtendedKalmanFilter(target_model, prior_covar)\n",
    "ekf2 = ExtendedKalmanFilter(mle_estimates[0], prior_covar)\n",
    "\n",
    "ekf1.filter_dataset(edesign.circuit_lists[-1], dataset)\n",
    "ekf2.filter_dataset(edesign.circuit_lists[-1], dataset)"
   ]
  },
  {
   "cell_type": "code",
   "execution_count": 16,
   "id": "62a2edb1-934f-41b2-b4c8-9b2167bea872",
   "metadata": {},
   "outputs": [
    {
     "name": "stderr",
     "output_type": "stream",
     "text": [
      "100%|█████████████████████████████████████████████████████████████████████████████████████████████████████████████████████████████████████████████████████████████████████████████████████████████████████| 616/616 [00:03<00:00, 170.19it/s]\n"
     ]
    }
   ],
   "source": [
    "# filter the dataset using a fast filter seeded at the target\n",
    "prior_covar_strength =  (rb_rate)/target_model.num_params\n",
    "prior_covar = prior_covar_strength*np.eye(target_model.num_params)\n",
    "\n",
    "fkf1 = ExtendedKalmanFilter(target_model, prior_covar)\n",
    "\n",
    "fkf1.fast_filter_dataset(edesign.circuit_lists[-1], dataset, jdict, hdict)"
   ]
  },
  {
   "cell_type": "code",
   "execution_count": null,
   "id": "a0da9337-09fb-43dc-a0fa-b2022a8927d2",
   "metadata": {},
   "outputs": [
    {
     "name": "stderr",
     "output_type": "stream",
     "text": [
      "  8%|████████████████▏                                                                                                                                                                                      | 27/331 [00:14<02:54,  1.74it/s]"
     ]
    }
   ],
   "source": [
    "# calculate model matrices needed for a reseeded filter\n",
    "initial_circuit_index = 285\n",
    "prior_model = target_model.copy()\n",
    "prior_model.from_vector(ekf1.param_history[initial_circuit_index])\n",
    "\n",
    "jacs_reseeded = dict()\n",
    "hess_reseeded = dict()\n",
    "\n",
    "for circ in tqdm(edesign.circuit_lists[-1][initial_circuit_index::]):\n",
    "    jacs_reseeded[circ] = matrix_from_jacob(prior_model.sim.dprobs(circ), 2**circ.width)\n",
    "    hess_reseeded[circ] = tensor_from_hessian(prior_model.sim.hprobs(circ), 2**circ.width)"
   ]
  },
  {
   "cell_type": "code",
   "execution_count": null,
   "id": "afecb249-c5e6-482e-9627-1f6dd61867e1",
   "metadata": {},
   "outputs": [],
   "source": [
    "# estimate with the reseeded fast filter\n",
    "fkf2 = ExtendedKalmanFilter(prior_model, ekf1.covar_history[initial_circuit_index])\n",
    "fkf2.fast_filter_dataset(edesign.circuit_lists[-1][initial_circuit_index::], dataset, jacs_reseeded, hess_reseeded)"
   ]
  },
  {
   "cell_type": "code",
   "execution_count": null,
   "id": "8d64fcf2-60d0-4a74-a784-2d13e5b09cf9",
   "metadata": {},
   "outputs": [],
   "source": [
    "# set germ circuit ranges for the mle batches\n",
    "germ_length_ranges = {\n",
    "    0: [0, 92], \n",
    "    1: [92, 168], \n",
    "    2: [168, 285], \n",
    "    3: [285, 448],\n",
    "    4: [448, 616],\n",
    "}"
   ]
  },
  {
   "cell_type": "code",
   "execution_count": null,
   "id": "7892a819-552b-44db-b67c-f44d2a73be2c",
   "metadata": {},
   "outputs": [],
   "source": [
    "# MSE evolution plots\n",
    "fig, axs = plt.subplots(1, 2, figsize=(9, 3))\n",
    "y_range = [-5.1, -1.6]\n",
    "\n",
    "axs[0].set_title('Total Estimate Error')\n",
    "axs[1].set_title('Uncertainty')\n",
    "\n",
    "true_params = mdl_datagen.to_vector()\n",
    "ekf1_error = []\n",
    "ekf2_error = []\n",
    "fkf1_error = []\n",
    "fkf2_error = []\n",
    "\n",
    "ekf1_uncert = []\n",
    "ekf2_uncert = []\n",
    "fkf1_uncert = []\n",
    "fkf2_uncert = []\n",
    "\n",
    "for i in range(len(ekf1.param_history)):\n",
    "    ekf1_error.append( np.log10((ekf1.param_history[i]-true_params)@(ekf1.param_history[i]-true_params)) )\n",
    "    ekf2_error.append( np.log10((ekf2.param_history[i]-true_params)@(ekf2.param_history[i]-true_params)) )\n",
    "    fkf1_error.append( np.log10((fkf1.param_history[i]-true_params)@(fkf1.param_history[i]-true_params)) )\n",
    "    ekf1_uncert.append( np.log10((np.trace(ekf1.covar_history[i]))) )\n",
    "    ekf2_uncert.append( np.log10((np.trace(ekf2.covar_history[i]))) )\n",
    "    fkf1_uncert.append( np.log10((np.trace(fkf1.covar_history[i]))) )\n",
    "\n",
    "    \n",
    "fkf1_uline, = axs[1].plot(fkf1_uncert, c='magenta', linestyle='dotted')\n",
    "ekf1_uline, = axs[1].plot(ekf1_uncert, c='red', linestyle='solid')\n",
    "ekf2_uline, = axs[1].plot(ekf2_uncert, c='blue', linestyle='dashdot')\n",
    "\n",
    "fkf1_line, = axs[0].plot(fkf1_error, c='magenta', linestyle='dotted')\n",
    "ekf1_line, = axs[0].plot(ekf1_error, c='red', linestyle='solid')\n",
    "ekf2_line, = axs[0].plot(ekf2_error, c='blue', linestyle='dashdot')\n",
    "\n",
    "if mle_estimates is not None:\n",
    "    for i, mdl in enumerate(mle_estimates):\n",
    "        mle_error = np.log10(mserror(mdl, mdl_datagen))\n",
    "        mle_line, = axs[0].plot(germ_length_ranges[i], (mle_error, mle_error), c='gray', label='MLE Estimate')\n",
    "        mle_line, = axs[1].plot(germ_length_ranges[i], (mle_error, mle_error), c='gray', label='MLE Estimate')\n",
    "\n",
    "plot_reseeded = True\n",
    "if plot_reseeded:\n",
    "    for i in range(len(fkf2.param_history)):\n",
    "        fkf2_error.append( np.log10((fkf2.param_history[i]-true_params)@(fkf2.param_history[i]-true_params)) )\n",
    "        fkf2_uncert.append( np.log10((np.trace(fkf2.covar_history[i]))) )\n",
    "    fkf2_uline, = axs[1].plot(range(initial_circuit_index, len(ekf1.param_history)), fkf2_uncert, c='cyan', linestyle='dashed')\n",
    "    fkf2_line, = axs[0].plot(range(initial_circuit_index, len(ekf1.param_history)), fkf2_error, c='cyan', linestyle='dashed')\n",
    "    axs[1].legend([mle_line, ekf1_line, ekf2_line, fkf1_line, fkf2_line], ['MLE Estimates', 'Target seeded exact', 'MLE1 seeded exact', 'Target seeded fast', 'Reseeded fast'])\n",
    "else:\n",
    "    axs[1].legend([mle_line, ekf1_line, ekf2_line, fkf1_line], ['MLE Estimates', 'Target seeded exact', 'MLE1 seeded exact', 'Target seeded fast'])\n",
    "\n",
    "\n",
    "if y_range is not None:\n",
    "    axs[0].set_ylim(y_range[0], y_range[1])\n",
    "    axs[1].set_ylim(y_range[0], y_range[1])\n",
    "axs[0].set_xlabel('Circuit Index')\n",
    "axs[1].set_xlabel('Circuit Index')\n",
    "axs[0].set_ylabel('MSE [log]')\n",
    "fig.savefig('Figures/MSE_evolution.eps', dpi=350, format=\"eps\", bbox_inches='tight')"
   ]
  },
  {
   "cell_type": "code",
   "execution_count": null,
   "id": "86c5e8fd-01ce-4947-8612-b28785e39b49",
   "metadata": {},
   "outputs": [],
   "source": [
    "# MSE evolution plots\n",
    "fig, axs = plt.subplots(1, 3, figsize=(12, 3))\n",
    "y_range = [-5.1, -1.6]\n",
    "\n",
    "axs[0].set_title('MLE seeded exact filter')\n",
    "axs[1].set_title('Target seeded exact filter')\n",
    "axs[2].set_title('Target seeded fast filter')\n",
    "\n",
    "\n",
    "true_params = mdl_datagen.to_vector()\n",
    "ekf1_error = []\n",
    "ekf2_error = []\n",
    "fkf1_error = []\n",
    "fkf2_error = []\n",
    "\n",
    "ekf1_uncert = []\n",
    "ekf2_uncert = []\n",
    "fkf1_uncert = []\n",
    "fkf2_uncert = []\n",
    "\n",
    "for i in range(len(ekf1.param_history)):\n",
    "    ekf1_error.append( np.log10((ekf1.param_history[i]-true_params)@(ekf1.param_history[i]-true_params)) )\n",
    "    ekf2_error.append( np.log10((ekf2.param_history[i]-true_params)@(ekf2.param_history[i]-true_params)) )\n",
    "    fkf1_error.append( np.log10((fkf1.param_history[i]-true_params)@(fkf1.param_history[i]-true_params)) )\n",
    "    ekf1_uncert.append( np.log10((np.trace(ekf1.covar_history[i]))) )\n",
    "    ekf2_uncert.append( np.log10((np.trace(ekf2.covar_history[i]))) )\n",
    "    fkf1_uncert.append( np.log10((np.trace(fkf1.covar_history[i]))) )\n",
    "\n",
    "\n",
    "ekf2_uline, = axs[0].plot(ekf2_uncert, c='blue', linestyle='dotted')\n",
    "ekf1_uline, = axs[1].plot(ekf1_uncert, c='blue', linestyle='dotted')\n",
    "fkf1_uline, = axs[2].plot(fkf1_uncert, c='blue', linestyle='dotted')\n",
    "\n",
    "ekf2_line, = axs[0].plot(ekf2_error, c='blue', linestyle='solid')\n",
    "ekf1_line, = axs[1].plot(ekf1_error, c='blue', linestyle='solid')\n",
    "fkf1_line, = axs[2].plot(fkf1_error, c='blue', linestyle='solid')\n",
    "\n",
    "if mle_estimates is not None:\n",
    "    for i, mdl in enumerate(mle_estimates):\n",
    "        mle_error = np.log10(mserror(mdl, mdl_datagen))\n",
    "        mle_line, = axs[0].plot(germ_length_ranges[i], (mle_error, mle_error), c='gray', label='MLE Estimate')\n",
    "        mle_line, = axs[1].plot(germ_length_ranges[i], (mle_error, mle_error), c='gray', label='MLE Estimate')\n",
    "        mle_line, = axs[2].plot(germ_length_ranges[i], (mle_error, mle_error), c='gray', label='MLE Estimate')\n",
    "\n",
    "plot_reseeded = True\n",
    "if plot_reseeded:\n",
    "    for i in range(len(fkf2.param_history)):\n",
    "        fkf2_error.append( np.log10((fkf2.param_history[i]-true_params)@(fkf2.param_history[i]-true_params)) )\n",
    "        fkf2_uncert.append( np.log10((np.trace(fkf2.covar_history[i]))) )\n",
    "    fkf2_uline, = axs[2].plot(range(initial_circuit_index, len(ekf1.param_history)), fkf2_uncert, c='cyan', linestyle='dashed')\n",
    "    fkf2_line, = axs[2].plot(range(initial_circuit_index, len(ekf1.param_history)), fkf2_error, c='cyan', linestyle='dashed')\n",
    "    axs[1].legend([mle_line, ekf1_line, ekf2_line, fkf1_line, fkf2_line], ['MLE Estimates', 'Target seeded exact', 'MLE1 seeded exact', 'Target seeded fast', 'Reseeded fast'])\n",
    "else:\n",
    "    axs[1].legend([mle_line, ekf1_line, ekf2_line, fkf1_line], ['MLE Estimates', 'Target seeded exact', 'MLE1 seeded exact', 'Target seeded fast'])\n",
    "\n",
    "\n",
    "if y_range is not None:\n",
    "    axs[0].set_ylim(y_range[0], y_range[1])\n",
    "    axs[1].set_ylim(y_range[0], y_range[1])\n",
    "axs[0].set_xlabel('GST Circuit Index')\n",
    "axs[0].set_ylabel('MSE [log]')\n",
    "fig.savefig('Figures/MSE_evolution.eps', dpi=350, format=\"eps\", bbox_inches='tight')"
   ]
  },
  {
   "cell_type": "code",
   "execution_count": null,
   "id": "7eef9439-f710-4098-bd00-77a0bdc81a48",
   "metadata": {},
   "outputs": [],
   "source": [
    "# Hamiltonian parameter error plots\n",
    "\n",
    "ekf1_mserrors = np.zeros((len(hamiltonian_params), len(ekf1.param_history)))\n",
    "ekf1_var = np.zeros((len(hamiltonian_params), len(ekf1.param_history)))\n",
    "true_params = mdl_datagen.to_vector()\n",
    "\n",
    "for i in range(len(ekf1.param_history)):\n",
    "    for j in range(len(hamiltonian_params)):\n",
    "        ekf1_mserrors[j, i] = ekf1.param_history[i][hamiltonian_params[j]]-true_params[hamiltonian_params[j]]\n",
    "        ekf1_var[j, i] = ekf1.covar_history[i][hamiltonian_params[j],hamiltonian_params[j]]\n",
    "param_lines = []   \n",
    "for j in range(len(hamiltonian_params)):\n",
    "    line, = plt.plot(ekf1_mserrors[j, :])\n",
    "    sigma = np.sqrt(ekf1_var[j, :])\n",
    "    param_lines.append(line)\n",
    "    plt.fill_between(range(len(ekf1_mserrors[j, :])), ekf1_mserrors[j, :]-sigma, ekf1_mserrors[j, :]+sigma, alpha=0.5)\n",
    "plt.legend(param_lines, [mdl_datagen.fogi_errorgen_component_labels()[i] for i in hamiltonian_params])\n",
    "\n",
    "plt.title('Evolution of FOGI Hamiltonian error')\n",
    "plt.xlabel('Circuit index')\n",
    "plt.ylabel('Estimate error')"
   ]
  },
  {
   "cell_type": "code",
   "execution_count": null,
   "id": "9d203058-b37d-43ac-81aa-22f3d04c8968",
   "metadata": {},
   "outputs": [],
   "source": [
    "# Over-rotation error plot\n",
    "\n",
    "overrot_errors = np.zeros((2, len(ekf1.param_history)))\n",
    "true_params = mdl_datagen.to_vector()\n",
    "\n",
    "for i in range(len(ekf1.param_history)):\n",
    "    overrot_errors[0, i] = ekf1.param_history[i][6]\n",
    "    overrot_errors[1, i] = ekf1.param_history[i][9]\n",
    "    \n",
    "xline_estimate, = plt.plot(overrot_errors[0, :], c='blue')\n",
    "sigmas = np.sqrt([c[6,6] for c in ekf1.covar_history])\n",
    "plt.fill_between(range(len(overrot_errors[0, :])), overrot_errors[0, :]-sigmas, overrot_errors[0, :]+sigmas, alpha=0.5)\n",
    "yline_estimate, = plt.plot(overrot_errors[1, :], c='red')\n",
    "sigmas = np.sqrt([c[9,9] for c in ekf1.covar_history])\n",
    "plt.fill_between(range(len(overrot_errors[1, :])), overrot_errors[1, :]-sigmas, overrot_errors[1, :]+sigmas, alpha=0.5)\n",
    "\n",
    "xline_true, = plt.plot((0, len(overrot_errors[0, :])), (true_params[6], true_params[6]), c='blue', linestyle='dashed')\n",
    "yline_true, = plt.plot((0, len(overrot_errors[0, :])), (true_params[9], true_params[9]), c='red', linestyle='dashed')\n",
    "\n",
    "    \n",
    "plt.legend([xline_estimate, yline_estimate, xline_true, yline_true], ['Estimated X gate error', 'Estimated Y gate error', 'True X gate error', 'True Y gate error'], loc='lower right')\n",
    "\n",
    "plt.title('Evolution of over rotation estimates', fontsize=14)\n",
    "plt.xlabel('Circuit index', fontsize=14)\n",
    "plt.ylabel('Estimate error (radians)', fontsize=14)\n",
    "plt.savefig('Figures/Overrot.eps', dpi=350, format=\"eps\", pad_inches=0.1)"
   ]
  },
  {
   "cell_type": "code",
   "execution_count": null,
   "id": "434da71d-b0cd-4ddf-8897-3007905e1b95",
   "metadata": {},
   "outputs": [],
   "source": []
  }
 ],
 "metadata": {
  "kernelspec": {
   "display_name": "Python 3 (ipykernel)",
   "language": "python",
   "name": "python3"
  },
  "language_info": {
   "codemirror_mode": {
    "name": "ipython",
    "version": 3
   },
   "file_extension": ".py",
   "mimetype": "text/x-python",
   "name": "python",
   "nbconvert_exporter": "python",
   "pygments_lexer": "ipython3",
   "version": "3.10.4"
  }
 },
 "nbformat": 4,
 "nbformat_minor": 5
}
