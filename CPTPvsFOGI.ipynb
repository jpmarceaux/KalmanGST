{
 "cells": [
  {
   "cell_type": "code",
   "execution_count": 1,
   "id": "acc95818-4aed-4fe6-bea4-56ef11033e58",
   "metadata": {},
   "outputs": [],
   "source": [
    "from kalman_gst import *  \n",
    "from pygsti.modelpacks import smq1Q_XYI as std"
   ]
  },
  {
   "cell_type": "code",
   "execution_count": 2,
   "id": "8ba736cd-e701-4239-853d-9001080e68ed",
   "metadata": {},
   "outputs": [],
   "source": [
    "SAMPLES = 256\n",
    "SEED = 2023"
   ]
  },
  {
   "cell_type": "markdown",
   "id": "1a9be651-992e-4ff0-ae2d-27f1e97e9522",
   "metadata": {
    "tags": []
   },
   "source": [
    "# Experiment 3\n",
    "\n",
    "Posterior Fit Performance compared with CPTP model"
   ]
  },
  {
   "cell_type": "code",
   "execution_count": 3,
   "id": "bb0956ba-3700-445d-8549-a1f94ec71ae2",
   "metadata": {},
   "outputs": [
    {
     "name": "stderr",
     "output_type": "stream",
     "text": [
      "/home/jpmarceaux/Applications/pyGSTi/pygsti/modelmembers/operations/lindbladerrorgen.py:1691: UserWarning: Using 'CPTP' as a Lindblad type is deprecated, and you should now use 'CPTPLND'\n",
      "  _warnings.warn(\"Using 'CPTP' as a Lindblad type is deprecated, and you should now use 'CPTPLND'\")\n"
     ]
    }
   ],
   "source": [
    "cptp_target = std.target_model('CPTP')"
   ]
  },
  {
   "cell_type": "code",
   "execution_count": 4,
   "id": "5fb938e5-2981-43f9-9fe4-eb570c089ca6",
   "metadata": {},
   "outputs": [],
   "source": [
    "# setup the datagen model\n",
    "max_fogi_error_rate = 0.05\n",
    "mdl_datagen = std.target_model('H+s')\n",
    "basis1q = pygsti.baseobjs.Basis.cast('pp', 4)\n",
    "gauge_basis = pygsti.baseobjs.CompleteElementaryErrorgenBasis(\n",
    "                        basis1q, mdl_datagen.state_space, elementary_errorgen_types='HS')\n",
    "mdl_datagen.setup_fogi(gauge_basis, None, None, reparameterize=True,\n",
    "                     dependent_fogi_action='drop', include_spam=True)\n",
    "ar = mdl_datagen.fogi_errorgen_components_array(include_fogv=False, normalized_elem_gens=True)\n",
    "fogi_target_model = mdl_datagen.copy()\n",
    "np.random.seed(SEED)\n",
    "ar = max_fogi_error_rate * np.random.rand(len(ar))\n",
    "mdl_datagen.set_fogi_errorgen_components_array(ar, include_fogv=False, normalized_elem_gens=True)"
   ]
  },
  {
   "cell_type": "code",
   "execution_count": 5,
   "id": "78040c1b-d1f5-4ddf-b5ca-2970aa87e56c",
   "metadata": {},
   "outputs": [
    {
     "data": {
      "text/plain": [
       "0.031208392571299193"
      ]
     },
     "execution_count": 5,
     "metadata": {},
     "output_type": "execute_result"
    }
   ],
   "source": [
    "avg_gs_infidelity(mdl_datagen, fogi_target_model)"
   ]
  },
  {
   "cell_type": "code",
   "execution_count": 7,
   "id": "bd2251f5-7600-4d66-bdd2-b86d72b7587f",
   "metadata": {},
   "outputs": [],
   "source": [
    "# make an edesign and simulate the data\n",
    "maxLengths = [1,2,4]\n",
    "edesign = pygsti.protocols.StandardGSTDesign(cptp_target, std.prep_fiducials(), std.meas_fiducials(),\n",
    "                                                std.germs(), maxLengths)\n",
    "dataset = pygsti.data.simulate_data(mdl_datagen, edesign, SAMPLES, seed=SEED) #, sample_error='none')"
   ]
  },
  {
   "cell_type": "code",
   "execution_count": 8,
   "id": "057b7e86-b66e-43de-8ea9-4401254c1532",
   "metadata": {},
   "outputs": [
    {
     "name": "stdout",
     "output_type": "stream",
     "text": [
      "--- Iterative GST: [##################################################] 100.0%  92 circuits ---\n",
      "Iterative GST Total Time: 13.9s\n",
      "--- Iterative GST: [##################################################] 100.0%  168 circuits ---\n",
      "Iterative GST Total Time: 28.0s\n",
      "--- Iterative GST: [##################################################] 100.0%  285 circuits ---\n",
      "Iterative GST Total Time: 34.1s\n"
     ]
    }
   ],
   "source": [
    "cptp_mle_estimates, edesigns = make_mle_estimates(dataset, std, cptp_target, maxLengths)"
   ]
  },
  {
   "cell_type": "code",
   "execution_count": 9,
   "id": "13580021-2f94-42c2-b11a-260f43d0f792",
   "metadata": {},
   "outputs": [],
   "source": [
    "prior_cptp_covar = 0.1*np.eye(cptp_target.num_params)"
   ]
  },
  {
   "cell_type": "code",
   "execution_count": 10,
   "id": "1c059687-342d-4238-83fa-f1935ee45a92",
   "metadata": {},
   "outputs": [
    {
     "name": "stderr",
     "output_type": "stream",
     "text": [
      "100%|████████████████████████████████████████████████████████████████████████████████████████████████████████████████████████████████████████████████████████████████████████████| 285/285 [00:19<00:00, 14.72it/s]\n",
      "100%|████████████████████████████████████████████████████████████████████████████████████████████████████████████████████████████████████████████████████████████████████████████| 285/285 [00:23<00:00, 11.91it/s]\n"
     ]
    }
   ],
   "source": [
    "prior_covar_strength =  mserror(mdl_datagen, fogi_target_model)/cptp_target.num_params\n",
    "prior_covar = prior_covar_strength*np.eye(cptp_target.num_params)\n",
    "\n",
    "ekf_cptp = ExtendedKalmanFilter(cptp_target, prior_covar)\n",
    "ekf_cptp.filter_dataset(edesign.circuit_lists[-1], dataset)\n",
    "\n",
    "ekf_mle_cptp = ExtendedKalmanFilter(cptp_mle_estimates[0], prior_covar)\n",
    "ekf_mle_cptp.filter_dataset(edesign.circuit_lists[-1], dataset)"
   ]
  },
  {
   "cell_type": "code",
   "execution_count": 12,
   "id": "21aadbba-16ab-4f1b-a789-b1a46b7474ad",
   "metadata": {},
   "outputs": [
    {
     "data": {
      "text/plain": [
       "-827.0989139211781"
      ]
     },
     "execution_count": 12,
     "metadata": {},
     "output_type": "execute_result"
    }
   ],
   "source": [
    "max_loglikelihood(edesign.circuit_lists[-1], dataset)"
   ]
  },
  {
   "cell_type": "code",
   "execution_count": 13,
   "id": "d960d73c-6ef7-4973-8b9e-15b0f1720d13",
   "metadata": {},
   "outputs": [
    {
     "data": {
      "text/plain": [
       "-2259.379452657987"
      ]
     },
     "execution_count": 13,
     "metadata": {},
     "output_type": "execute_result"
    }
   ],
   "source": [
    "experimental_loglikelihood(edesign.circuit_lists[-1], dataset, ekf_cptp.model)"
   ]
  },
  {
   "cell_type": "code",
   "execution_count": 14,
   "id": "0709c41b-558f-42f0-a6de-df8a6d06220c",
   "metadata": {},
   "outputs": [
    {
     "data": {
      "text/plain": [
       "-978.9999655083702"
      ]
     },
     "execution_count": 14,
     "metadata": {},
     "output_type": "execute_result"
    }
   ],
   "source": [
    "experimental_loglikelihood(edesign.circuit_lists[-1], dataset, ekf_mle_cptp.model)"
   ]
  },
  {
   "cell_type": "code",
   "execution_count": 15,
   "id": "e67f6f83-ffd1-4dcf-826f-336ed13e015b",
   "metadata": {},
   "outputs": [
    {
     "data": {
      "text/plain": [
       "-1035.6763119679738"
      ]
     },
     "execution_count": 15,
     "metadata": {},
     "output_type": "execute_result"
    }
   ],
   "source": [
    "experimental_loglikelihood(edesign.circuit_lists[-1], dataset, cptp_mle_estimates[0])"
   ]
  },
  {
   "cell_type": "code",
   "execution_count": 16,
   "id": "b56b1814-7bf4-40bf-a3d6-c22307ef6f26",
   "metadata": {},
   "outputs": [
    {
     "data": {
      "text/plain": [
       "-948.726917960521"
      ]
     },
     "execution_count": 16,
     "metadata": {},
     "output_type": "execute_result"
    }
   ],
   "source": [
    "experimental_loglikelihood(edesign.circuit_lists[-1], dataset, cptp_mle_estimates[-1])"
   ]
  },
  {
   "cell_type": "code",
   "execution_count": 17,
   "id": "c1157a43-29d6-4089-ad3f-d1570798e52d",
   "metadata": {},
   "outputs": [
    {
     "name": "stdout",
     "output_type": "stream",
     "text": [
      "--- Iterative GST: [##################################################] 100.0%  92 circuits ---\n",
      "Iterative GST Total Time: 0.4s\n",
      "--- Iterative GST: [##################################################] 100.0%  168 circuits ---\n",
      "Iterative GST Total Time: 0.6s\n",
      "--- Iterative GST: [##################################################] 100.0%  285 circuits ---\n",
      "Iterative GST Total Time: 1.4s\n"
     ]
    }
   ],
   "source": [
    "fogi_mle_estimates, edesigns = make_mle_estimates(dataset, std, fogi_target_model, maxLengths)"
   ]
  },
  {
   "cell_type": "code",
   "execution_count": 18,
   "id": "844adefe-31f1-434e-b436-511b65d496a2",
   "metadata": {},
   "outputs": [
    {
     "name": "stderr",
     "output_type": "stream",
     "text": [
      "100%|████████████████████████████████████████████████████████████████████████████████████████████████████████████████████████████████████████████████████████████████████████████| 285/285 [00:11<00:00, 24.90it/s]\n",
      "100%|████████████████████████████████████████████████████████████████████████████████████████████████████████████████████████████████████████████████████████████████████████████| 285/285 [00:11<00:00, 23.77it/s]\n"
     ]
    }
   ],
   "source": [
    "prior_covar_strength =  mserror(mdl_datagen, fogi_target_model)/fogi_target_model.num_params\n",
    "prior_covar = prior_covar_strength*np.eye(fogi_target_model.num_params)\n",
    "\n",
    "ekf_target_fogi = ExtendedKalmanFilter(fogi_target_model, prior_covar)\n",
    "ekf_target_fogi.filter_dataset(edesign.circuit_lists[-1], dataset)\n",
    "\n",
    "ekf_mle_fogi = ExtendedKalmanFilter(fogi_mle_estimates[0], prior_covar)\n",
    "ekf_mle_fogi.filter_dataset(edesign.circuit_lists[-1], dataset)"
   ]
  },
  {
   "cell_type": "code",
   "execution_count": 19,
   "id": "bc5713c4-955c-4a1f-bcc4-e3871d2a1405",
   "metadata": {},
   "outputs": [
    {
     "data": {
      "text/plain": [
       "-827.0989139211781"
      ]
     },
     "execution_count": 19,
     "metadata": {},
     "output_type": "execute_result"
    }
   ],
   "source": [
    "max_loglikelihood(edesign.circuit_lists[-1], dataset)"
   ]
  },
  {
   "cell_type": "code",
   "execution_count": 20,
   "id": "416ce379-1b8f-4a43-b020-f0f5bda58adc",
   "metadata": {},
   "outputs": [
    {
     "data": {
      "text/plain": [
       "-1029.2681069456496"
      ]
     },
     "execution_count": 20,
     "metadata": {},
     "output_type": "execute_result"
    }
   ],
   "source": [
    "experimental_loglikelihood(edesign.circuit_lists[-1], dataset, fogi_mle_estimates[0])"
   ]
  },
  {
   "cell_type": "code",
   "execution_count": 21,
   "id": "b549a76d-8069-40a0-816e-4a1b0cdcb52c",
   "metadata": {},
   "outputs": [
    {
     "data": {
      "text/plain": [
       "-956.3151052393509"
      ]
     },
     "execution_count": 21,
     "metadata": {},
     "output_type": "execute_result"
    }
   ],
   "source": [
    "experimental_loglikelihood(edesign.circuit_lists[-1], dataset, fogi_mle_estimates[-1])"
   ]
  },
  {
   "cell_type": "code",
   "execution_count": 22,
   "id": "5eef9fb4-ea71-42ce-944a-622c5ca18b36",
   "metadata": {},
   "outputs": [
    {
     "data": {
      "text/plain": [
       "-957.0047422897312"
      ]
     },
     "execution_count": 22,
     "metadata": {},
     "output_type": "execute_result"
    }
   ],
   "source": [
    "experimental_loglikelihood(edesign.circuit_lists[-1], dataset, ekf_target_fogi.model)"
   ]
  },
  {
   "cell_type": "code",
   "execution_count": 23,
   "id": "24ce3c56-a934-43b5-85ea-942a7aaa64d3",
   "metadata": {},
   "outputs": [
    {
     "data": {
      "text/plain": [
       "-956.9048344551802"
      ]
     },
     "execution_count": 23,
     "metadata": {},
     "output_type": "execute_result"
    }
   ],
   "source": [
    "experimental_loglikelihood(edesign.circuit_lists[-1], dataset, ekf_mle_fogi.model)"
   ]
  },
  {
   "cell_type": "code",
   "execution_count": 24,
   "id": "c3b49ca6-1641-4bca-a99d-1cd09e90f3b1",
   "metadata": {},
   "outputs": [],
   "source": [
    "def plot_covar_evals(covar_list):\n",
    "    evals = []\n",
    "    for c in covar_list:\n",
    "        circ_eval, _ = np.linalg.eig(c)\n",
    "        evals.append(circ_eval)\n",
    "    plt.matshow(abs(np.array(evals).T))\n",
    "    \n",
    "def plot_covar_svals(covar_list):\n",
    "    svals = []\n",
    "    for c in covar_list:\n",
    "        _, circ_sval, _ = np.linalg.svd(c)\n",
    "        svals.append(circ_sval)\n",
    "    plt.matshow(abs(np.array(svals).T))"
   ]
  },
  {
   "cell_type": "code",
   "execution_count": 25,
   "id": "db349e75-0781-4ea3-bec2-00278a3dbb74",
   "metadata": {},
   "outputs": [
    {
     "data": {
      "image/png": "[encoded data removed]",
      "text/plain": [
       "<Figure size 1600x335.664 with 1 Axes>"
      ]
     },
     "metadata": {},
     "output_type": "display_data"
    }
   ],
   "source": [
    "plot_covar_svals(ekf_mle_cptp.covar_history)"
   ]
  },
  {
   "cell_type": "code",
   "execution_count": 26,
   "id": "c3533632-8da6-451f-8579-8eb607438b94",
   "metadata": {},
   "outputs": [
    {
     "data": {
      "image/png": "[encoded data removed]",
      "text/plain": [
       "<Figure size 1600x200 with 1 Axes>"
      ]
     },
     "metadata": {},
     "output_type": "display_data"
    }
   ],
   "source": [
    "plot_covar_svals(ekf_mle_fogi.covar_history)"
   ]
  },
  {
   "cell_type": "code",
   "execution_count": null,
   "id": "489aa799-a2f3-445f-b2b8-07a01615e040",
   "metadata": {},
   "outputs": [],
   "source": []
  }
 ],
 "metadata": {
  "kernelspec": {
   "display_name": "Python 3 (ipykernel)",
   "language": "python",
   "name": "python3"
  },
  "language_info": {
   "codemirror_mode": {
    "name": "ipython",
    "version": 3
   },
   "file_extension": ".py",
   "mimetype": "text/x-python",
   "name": "python",
   "nbconvert_exporter": "python",
   "pygments_lexer": "ipython3",
   "version": "3.10.8"
  }
 },
 "nbformat": 4,
 "nbformat_minor": 5
}
