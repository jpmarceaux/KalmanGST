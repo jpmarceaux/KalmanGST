{
 "cells": [
  {
   "cell_type": "code",
   "execution_count": 1,
   "id": "9c976ed6-07af-44c1-a163-4f3a0c2ac06f",
   "metadata": {},
   "outputs": [],
   "source": [
    "from kalman_gst import *  \n",
    "from pygsti.modelpacks import smq2Q_XYICNOT as std"
   ]
  },
  {
   "cell_type": "code",
   "execution_count": 2,
   "id": "d8d6cdf5-d288-4a3e-8a56-a6b6e0835246",
   "metadata": {},
   "outputs": [],
   "source": [
    "SEED = 2021\n",
    "SAMPLES = 256\n",
    "np.random.seed(SEED)"
   ]
  },
  {
   "cell_type": "code",
   "execution_count": 7,
   "id": "dc516362-4272-4913-a333-bc781a35dd48",
   "metadata": {},
   "outputs": [],
   "source": [
    "def filter_dataset(prior_model, prior_covar, dataset, circ_list, \n",
    "                   Q_add, R_add, clip_range=[-1, 1],\n",
    "                   max_itr=1, itr_eps=1e-4,\n",
    "                   save_params_and_covars=False, save_prior_innovations=False, save_posterior_innovations=False, save_kgains=False):\n",
    "    param_history = []\n",
    "    covar_history = []\n",
    "    prior_innovs = []\n",
    "    post_innovs = []\n",
    "    kgains = []\n",
    "    \n",
    "    ekf = ExtendedKalmanFilter(prior_model.copy(), prior_covar)\n",
    "    if save_params_and_covars:\n",
    "        param_history.append(prior_model.to_vector())\n",
    "        covar_history.append(prior_covar)\n",
    "    for circ in tqdm(circ_list):\n",
    "        counts = dataset[circ].counts\n",
    "        cvec = vector_from_outcomes(counts, 2**circ.width)\n",
    "        innov, kgain = ekf.update(circ, cvec, clip_range=clip_range, Q=Q_add, R_additional=R_add, max_itr=max_itr, itr_eps=itr_eps)\n",
    "        if save_prior_innovations:\n",
    "            prior_innovs.append(innov)\n",
    "        if save_kgains:\n",
    "            kgains.append(kgain)\n",
    "        if save_posterior_innovations:\n",
    "            post_predict = vector_from_outcomes(ekf.model.probabilities(circ), 2**circ.width)\n",
    "            post_innov = cvec/sum(cvec) - post_predict\n",
    "            post_innovs.append(post_innov)\n",
    "        if save_params_and_covars:\n",
    "            param_history.append(ekf.model.to_vector())\n",
    "            covar_history.append(ekf.P)\n",
    "    return ekf.model, ekf.P, (param_history, covar_history, prior_innovs, post_innovs, kgains)"
   ]
  },
  {
   "cell_type": "markdown",
   "id": "00045eae-55a2-4c62-a259-8740aa2ab2e5",
   "metadata": {},
   "source": [
    "# Example 1\n",
    "\n",
    "Fixed FOGI model with different start points"
   ]
  },
  {
   "cell_type": "code",
   "execution_count": 3,
   "id": "748338e4-fbca-4f1a-ba3d-fd1188655464",
   "metadata": {},
   "outputs": [],
   "source": [
    "# setup the datagen model\n",
    "max_fogi_error_rate = 0.05\n",
    "mdl_datagen = std.target_model('H+s')\n",
    "basis1q = pygsti.baseobjs.Basis.cast('pp', 4)\n",
    "gauge_basis = pygsti.baseobjs.CompleteElementaryErrorgenBasis(\n",
    "                        basis1q, mdl_datagen.state_space, elementary_errorgen_types='HS')\n",
    "mdl_datagen.setup_fogi(gauge_basis, None, None, reparameterize=True,\n",
    "                     dependent_fogi_action='drop', include_spam=True)\n",
    "ar = mdl_datagen.fogi_errorgen_components_array(include_fogv=False, normalized_elem_gens=True)\n",
    "target_model = mdl_datagen.copy()\n",
    "np.random.seed(SEED)\n",
    "ar = max_fogi_error_rate * np.random.rand(len(ar))\n",
    "mdl_datagen.set_fogi_errorgen_components_array(ar, include_fogv=False, normalized_elem_gens=True)"
   ]
  },
  {
   "cell_type": "code",
   "execution_count": 4,
   "id": "07a2d678-3608-4d0b-b4fe-90d2cb7ba9ae",
   "metadata": {},
   "outputs": [],
   "source": [
    "# make an edesign and simulate the data\n",
    "maxLengths = [1,2,4,8,16]\n",
    "maxlength_edesign = pygsti.protocols.StandardGSTDesign(target_model, std.prep_fiducials(), std.meas_fiducials(),\n",
    "                                                std.germs(), maxLengths)\n",
    "dataset = pygsti.data.simulate_data(mdl_datagen, maxlength_edesign, SAMPLES, seed=SEED) #, sample_error='none')"
   ]
  },
  {
   "cell_type": "code",
   "execution_count": 5,
   "id": "fe219b5b-4e3b-4d97-b28b-af0bde4af0cc",
   "metadata": {},
   "outputs": [
    {
     "name": "stdout",
     "output_type": "stream",
     "text": [
      "--- Iterative GST: [##################################################] 100.0%  92 circuits ---\n",
      "Iterative GST Total Time: 0.6s\n",
      "--- Iterative GST: [##################################################] 100.0%  168 circuits ---\n",
      "Iterative GST Total Time: 0.8s\n",
      "--- Iterative GST: [##################################################] 100.0%  285 circuits ---\n",
      "Iterative GST Total Time: 1.1s\n",
      "--- Iterative GST: [##################################################] 100.0%  448 circuits ---\n",
      "Iterative GST Total Time: 1.6s\n",
      "--- Iterative GST: [##################################################] 100.0%  616 circuits ---\n",
      "Iterative GST Total Time: 2.2s\n"
     ]
    }
   ],
   "source": [
    "mle_estimates, edesigns = make_mle_estimates(dataset, std, target_model, maxLengths)"
   ]
  },
  {
   "cell_type": "code",
   "execution_count": 7,
   "id": "7cc9068f-9fc1-43f3-9c61-b11e733fea2b",
   "metadata": {},
   "outputs": [],
   "source": [
    "germ_length_ranges = {\n",
    "    0: [0, 92], \n",
    "    1: [92, 168], \n",
    "    2: [168, 285], \n",
    "    3: [285, 448],\n",
    "    4: [448, 616]\n",
    "}"
   ]
  },
  {
   "cell_type": "code",
   "execution_count": 5,
   "id": "bd176f7c-892d-4c66-83fe-40f2d65517a4",
   "metadata": {},
   "outputs": [],
   "source": [
    "circ_list = maxlength_edesign.circuit_lists[-1]"
   ]
  },
  {
   "cell_type": "code",
   "execution_count": null,
   "id": "48a44993-28b4-4b52-87d2-4be32c203213",
   "metadata": {},
   "outputs": [
    {
     "name": "stderr",
     "output_type": "stream",
     "text": [
      " 42%|██████████████████████████████████████████████████████████████████████████████████                                                                                                                | 3695/8740 [28:57<1:31:31,  1.09s/it]"
     ]
    }
   ],
   "source": [
    "post_model, post_covar, saved_data = filter_dataset(target_model, 0.1*np.eye(target_model.num_params), dataset, circ_list, \n",
    "                   None, None, clip_range=[-1, 1],\n",
    "                   max_itr=1, itr_eps=1e-4,\n",
    "                   save_params_and_covars=True, save_prior_innovations=False, save_posterior_innovations=False, save_kgains=False)"
   ]
  },
  {
   "cell_type": "code",
   "execution_count": 11,
   "id": "3d20d767-3c35-4ce2-8287-f3920d798f1d",
   "metadata": {},
   "outputs": [],
   "source": [
    "plt_spacing = 20\n",
    "%matplotlib inline\n",
    "yrange = [-4.5, 0]"
   ]
  },
  {
   "cell_type": "code",
   "execution_count": 12,
   "id": "55e7d521-5276-43a6-878f-d9fd0cb51fdf",
   "metadata": {},
   "outputs": [
    {
     "ename": "ValueError",
     "evalue": "diag requires an array of at least two dimensions",
     "output_type": "error",
     "traceback": [
      "\u001b[0;31m---------------------------------------------------------------------------\u001b[0m",
      "\u001b[0;31mValueError\u001b[0m                                Traceback (most recent call last)",
      "Input \u001b[0;32mIn [12]\u001b[0m, in \u001b[0;36m<cell line: 1>\u001b[0;34m()\u001b[0m\n\u001b[0;32m----> 1\u001b[0m \u001b[43mmake_error_plot\u001b[49m\u001b[43m(\u001b[49m\u001b[38;5;124;43m'\u001b[39;49m\u001b[38;5;124;43mZero Seed\u001b[39;49m\u001b[38;5;124;43m'\u001b[39;49m\u001b[43m,\u001b[49m\u001b[43m \u001b[49m\u001b[43mzero_model_vectors\u001b[49m\u001b[43m,\u001b[49m\u001b[43m \u001b[49m\u001b[43mmdl_datagen\u001b[49m\u001b[38;5;241;43m.\u001b[39;49m\u001b[43mto_vector\u001b[49m\u001b[43m(\u001b[49m\u001b[43m)\u001b[49m\u001b[43m,\u001b[49m\u001b[43m \u001b[49m\u001b[43mzero_covars\u001b[49m\u001b[43m,\u001b[49m\u001b[43m \u001b[49m\u001b[43myrange\u001b[49m\u001b[43m,\u001b[49m\u001b[43m \u001b[49m\u001b[43mmle_estimates\u001b[49m\u001b[43m,\u001b[49m\u001b[43m \u001b[49m\u001b[43mgerm_length_ranges\u001b[49m\u001b[43m,\u001b[49m\u001b[43m \u001b[49m\u001b[43mplt_spacing\u001b[49m\u001b[43m)\u001b[49m\n",
      "File \u001b[0;32m~/Simulations/KalmanFiltering_Sandia2021/kalman_gst.py:298\u001b[0m, in \u001b[0;36mmake_error_plot\u001b[0;34m(plt_title, model_vectors, true_params, filter_covars, y_range, mle_estimates, germ_length_ranges, plt_spacing)\u001b[0m\n\u001b[1;32m    296\u001b[0m     error \u001b[38;5;241m=\u001b[39m np\u001b[38;5;241m.\u001b[39mlog10((params\u001b[38;5;241m-\u001b[39mtrue_params)\u001b[38;5;241m@\u001b[39m(params\u001b[38;5;241m-\u001b[39mtrue_params))\n\u001b[1;32m    297\u001b[0m     axs[\u001b[38;5;241m0\u001b[39m]\u001b[38;5;241m.\u001b[39mscatter(i, error, c\u001b[38;5;241m=\u001b[39m\u001b[38;5;124m'\u001b[39m\u001b[38;5;124mblack\u001b[39m\u001b[38;5;124m'\u001b[39m)\n\u001b[0;32m--> 298\u001b[0m     axs[\u001b[38;5;241m1\u001b[39m]\u001b[38;5;241m.\u001b[39mscatter(i, np\u001b[38;5;241m.\u001b[39mlog10(np\u001b[38;5;241m.\u001b[39msqrt(\u001b[43mnp\u001b[49m\u001b[38;5;241;43m.\u001b[39;49m\u001b[43mtrace\u001b[49m\u001b[43m(\u001b[49m\u001b[43mfilter_covars\u001b[49m\u001b[43m[\u001b[49m\u001b[43mi\u001b[49m\u001b[43m]\u001b[49m\u001b[43m)\u001b[49m)), c\u001b[38;5;241m=\u001b[39m\u001b[38;5;124m'\u001b[39m\u001b[38;5;124mblack\u001b[39m\u001b[38;5;124m'\u001b[39m)\n\u001b[1;32m    300\u001b[0m \u001b[38;5;28;01mif\u001b[39;00m mle_estimates \u001b[38;5;129;01mis\u001b[39;00m \u001b[38;5;129;01mnot\u001b[39;00m \u001b[38;5;28;01mNone\u001b[39;00m:\n\u001b[1;32m    301\u001b[0m     \u001b[38;5;28;01mif\u001b[39;00m germ_length_ranges \u001b[38;5;129;01mis\u001b[39;00m \u001b[38;5;28;01mNone\u001b[39;00m:\n",
      "File \u001b[0;32m<__array_function__ internals>:180\u001b[0m, in \u001b[0;36mtrace\u001b[0;34m(*args, **kwargs)\u001b[0m\n",
      "File \u001b[0;32m~/.local/lib/python3.10/site-packages/numpy/core/fromnumeric.py:1748\u001b[0m, in \u001b[0;36mtrace\u001b[0;34m(a, offset, axis1, axis2, dtype, out)\u001b[0m\n\u001b[1;32m   1746\u001b[0m     \u001b[38;5;28;01mreturn\u001b[39;00m asarray(a)\u001b[38;5;241m.\u001b[39mtrace(offset\u001b[38;5;241m=\u001b[39moffset, axis1\u001b[38;5;241m=\u001b[39maxis1, axis2\u001b[38;5;241m=\u001b[39maxis2, dtype\u001b[38;5;241m=\u001b[39mdtype, out\u001b[38;5;241m=\u001b[39mout)\n\u001b[1;32m   1747\u001b[0m \u001b[38;5;28;01melse\u001b[39;00m:\n\u001b[0;32m-> 1748\u001b[0m     \u001b[38;5;28;01mreturn\u001b[39;00m \u001b[43masanyarray\u001b[49m\u001b[43m(\u001b[49m\u001b[43ma\u001b[49m\u001b[43m)\u001b[49m\u001b[38;5;241;43m.\u001b[39;49m\u001b[43mtrace\u001b[49m\u001b[43m(\u001b[49m\u001b[43moffset\u001b[49m\u001b[38;5;241;43m=\u001b[39;49m\u001b[43moffset\u001b[49m\u001b[43m,\u001b[49m\u001b[43m \u001b[49m\u001b[43maxis1\u001b[49m\u001b[38;5;241;43m=\u001b[39;49m\u001b[43maxis1\u001b[49m\u001b[43m,\u001b[49m\u001b[43m \u001b[49m\u001b[43maxis2\u001b[49m\u001b[38;5;241;43m=\u001b[39;49m\u001b[43maxis2\u001b[49m\u001b[43m,\u001b[49m\u001b[43m \u001b[49m\u001b[43mdtype\u001b[49m\u001b[38;5;241;43m=\u001b[39;49m\u001b[43mdtype\u001b[49m\u001b[43m,\u001b[49m\u001b[43m \u001b[49m\u001b[43mout\u001b[49m\u001b[38;5;241;43m=\u001b[39;49m\u001b[43mout\u001b[49m\u001b[43m)\u001b[49m\n",
      "\u001b[0;31mValueError\u001b[0m: diag requires an array of at least two dimensions"
     ]
    },
    {
     "data": {
      "image/png": "[encoded data removed]",
      "text/plain": [
       "<Figure size 432x288 with 2 Axes>"
      ]
     },
     "metadata": {
      "needs_background": "light"
     },
     "output_type": "display_data"
    }
   ],
   "source": [
    "make_error_plot('Zero Seed', zero_model_vectors, mdl_datagen.to_vector(), zero_covars, yrange, mle_estimates, germ_length_ranges, plt_spacing)"
   ]
  }
 ],
 "metadata": {
  "kernelspec": {
   "display_name": "Python 3 (ipykernel)",
   "language": "python",
   "name": "python3"
  },
  "language_info": {
   "codemirror_mode": {
    "name": "ipython",
    "version": 3
   },
   "file_extension": ".py",
   "mimetype": "text/x-python",
   "name": "python",
   "nbconvert_exporter": "python",
   "pygments_lexer": "ipython3",
   "version": "3.10.4"
  }
 },
 "nbformat": 4,
 "nbformat_minor": 5
}
