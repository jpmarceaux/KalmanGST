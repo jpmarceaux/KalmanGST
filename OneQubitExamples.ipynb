{
 "cells": [
  {
   "cell_type": "code",
   "execution_count": 3,
   "id": "acc95818-4aed-4fe6-bea4-56ef11033e58",
   "metadata": {},
   "outputs": [],
   "source": [
    "from kalman_gst import *  \n",
    "from pygsti.modelpacks import smq1Q_XYI as std"
   ]
  },
  {
   "cell_type": "code",
   "execution_count": 4,
   "id": "8ba736cd-e701-4239-853d-9001080e68ed",
   "metadata": {},
   "outputs": [],
   "source": [
    "SAMPLES = 256"
   ]
  },
  {
   "cell_type": "markdown",
   "id": "b33980ce-2658-4a36-ac63-f3a7e9a761fb",
   "metadata": {},
   "source": [
    "# Experiment 1: fast and exact filters on a particular noise model"
   ]
  },
  {
   "cell_type": "code",
   "execution_count": 5,
   "id": "545bb707-36f8-45a3-80df-96d2386137d3",
   "metadata": {},
   "outputs": [],
   "source": [
    "# setup the FOGI model\n",
    "mdl_datagen = std.target_model('H+s')\n",
    "basis1q = pygsti.baseobjs.Basis.cast('pp', 4)\n",
    "gauge_basis = pygsti.baseobjs.CompleteElementaryErrorgenBasis(\n",
    "                        basis1q, mdl_datagen.state_space, elementary_errorgen_types='HS')\n",
    "mdl_datagen.setup_fogi(gauge_basis, None, None, reparameterize=True,\n",
    "                     dependent_fogi_action='drop', include_spam=True)\n",
    "target_model = mdl_datagen.copy()"
   ]
  },
  {
   "cell_type": "code",
   "execution_count": 6,
   "id": "c4d48089-ae31-40f9-a57a-dbbded9b20ac",
   "metadata": {},
   "outputs": [
    {
     "data": {
      "text/plain": [
       "('H(X:0)_[]',\n",
       " 'H(Y:0)_[]',\n",
       " 'H(Z:0)_[]',\n",
       " 'S(X:0)_[]',\n",
       " 'S(Y:0)_[]',\n",
       " 'S(Z:0)_[]',\n",
       " 'H(X:0)_Gxpi2:0',\n",
       " 'S(X:0)_Gxpi2:0',\n",
       " '(0.5 S(Y:0) + 0.5 S(Z:0))_Gxpi2:0',\n",
       " 'H(Y:0)_Gypi2:0',\n",
       " '(0.5 S(X:0) + 0.5 S(Z:0))_Gypi2:0',\n",
       " 'S(Y:0)_Gypi2:0',\n",
       " 'ga(-H(Z:0))_Gypi2:0 - ga(-H(Z:0))_Gxpi2:0',\n",
       " 'ga(H(Y:0))_rho0 - ga(H(Y:0))_Gxpi2:0',\n",
       " 'ga(-H(Y:0))_Mdefault - ga(-H(Y:0))_Gxpi2:0',\n",
       " 'ga(H(X:0))_rho0 - ga(H(X:0))_Gypi2:0',\n",
       " 'ga(-H(X:0))_Mdefault - ga(-H(X:0))_Gypi2:0',\n",
       " 'ga(-0.5 S(X:0) - 0.5 S(Y:0))_Mdefault - ga(-0.5 S(X:0) - 0.5 S(Y:0))_rho0')"
      ]
     },
     "execution_count": 6,
     "metadata": {},
     "output_type": "execute_result"
    }
   ],
   "source": [
    "mdl_datagen.fogi_errorgen_component_labels()"
   ]
  },
  {
   "cell_type": "code",
   "execution_count": 7,
   "id": "14e8f964-5abf-4b63-b703-c4107e4c87ab",
   "metadata": {},
   "outputs": [
    {
     "name": "stdout",
     "output_type": "stream",
     "text": [
      "['H(X:0)_[]', 'H(Y:0)_[]', 'H(Z:0)_[]', 'H(X:0)_Gxpi2:0', 'H(Y:0)_Gypi2:0']\n"
     ]
    }
   ],
   "source": [
    "hamiltonian_params = [0, 1, 2, 6, 9]\n",
    "print([mdl_datagen.fogi_errorgen_component_labels()[i] for i in hamiltonian_params])"
   ]
  },
  {
   "cell_type": "code",
   "execution_count": 8,
   "id": "9de8d612-acb8-4157-a8a7-20e78e02e08a",
   "metadata": {},
   "outputs": [
    {
     "name": "stdout",
     "output_type": "stream",
     "text": [
      "hamiltonian-only MSE with target 0.013944923672360086\n",
      "hamiltonian-only agsi with target 0.0027790049441692053\n",
      "MSE with target 0.013947191474393654\n",
      "agi with target 0.0034387883628380854\n"
     ]
    }
   ],
   "source": [
    "# add noise to the stochastic and hamiltonian parts of the FOGI rates\n",
    "SEED = 3122\n",
    "np.random.seed(SEED)\n",
    "\n",
    "max_stochastic_error_rate = 0.001\n",
    "hamiltonian_error_var = 0.05\n",
    "ar = mdl_datagen.fogi_errorgen_components_array(include_fogv=False, normalized_elem_gens=True)\n",
    "\n",
    "\n",
    "# add hamiltonian noise\n",
    "ar[0:3] = np.random.normal(0, hamiltonian_error_var, 3)\n",
    "ar[9] = np.random.normal(0, hamiltonian_error_var)\n",
    "ar[6] = np.random.normal(0, hamiltonian_error_var)\n",
    "mdl_datagen.set_fogi_errorgen_components_array(ar, include_fogv=False, normalized_elem_gens=True)\n",
    "print('hamiltonian-only MSE with target', mserror(mdl_datagen, target_model))\n",
    "print('hamiltonian-only agsi with target', avg_gs_infidelity(mdl_datagen, target_model))\n",
    "\n",
    "# add stochastic noise\n",
    "ar[3:6] = max_stochastic_error_rate*np.random.rand(3)\n",
    "ar[7:9] = max_stochastic_error_rate*np.random.rand(2)\n",
    "ar[10:12] = max_stochastic_error_rate*np.random.rand(2)\n",
    "mdl_datagen.set_fogi_errorgen_components_array(ar, include_fogv=False, normalized_elem_gens=True)\n",
    "\n",
    "print('MSE with target', mserror(mdl_datagen, target_model))\n",
    "print('agi with target', avg_gs_infidelity(mdl_datagen, target_model))"
   ]
  },
  {
   "cell_type": "code",
   "execution_count": 9,
   "id": "524c46dc-89a1-4c6b-8b2f-f5f97e03a9e1",
   "metadata": {},
   "outputs": [
    {
     "name": "stdout",
     "output_type": "stream",
     "text": [
      "model is cptp True\n"
     ]
    }
   ],
   "source": [
    "print('model is cptp', model_is_cptp(mdl_datagen))"
   ]
  },
  {
   "cell_type": "code",
   "execution_count": 10,
   "id": "76fa9735-e378-47ac-b296-4ae8d093babf",
   "metadata": {},
   "outputs": [],
   "source": [
    "\"\"\"make an edesign and simulate the data\"\"\"\n",
    "maxLengths = [1,2,4,8,16]\n",
    "edesign = pygsti.protocols.StandardGSTDesign(target_model, std.prep_fiducials(), std.meas_fiducials(),\n",
    "                                                std.germs(), maxLengths)\n",
    "dataset = pygsti.data.simulate_data(mdl_datagen, edesign, SAMPLES, seed=SEED) #, sample_error='none')"
   ]
  },
  {
   "cell_type": "code",
   "execution_count": 24,
   "id": "0e37bf0a-75fb-48b6-9b9b-fc3272636750",
   "metadata": {},
   "outputs": [
    {
     "data": {
      "text/plain": [
       "'uncomment to recalculate model matrices'"
      ]
     },
     "execution_count": 24,
     "metadata": {},
     "output_type": "execute_result"
    }
   ],
   "source": [
    "\"\"\"uncomment to recalculate model matrices\"\"\"\n",
    "# jdict = {}\n",
    "# hdict = {}\n",
    "# for circ in tqdm(edesign.circuit_lists[-1]):\n",
    "#     jdict[circ] = matrix_from_jacob(target_model.sim.dprobs(circ), 2**circ.width)\n",
    "#     hdict[circ] = tensor_from_hessian(target_model.sim.hprobs(circ), 2**circ.width)\n",
    "# pickle_dict(jdict, 'XYI_jacs')\n",
    "# pickle_dict(hdict, 'XYI_hess')"
   ]
  },
  {
   "cell_type": "code",
   "execution_count": 25,
   "id": "a02f7ced-c2e6-414e-833d-a80ed91be911",
   "metadata": {},
   "outputs": [],
   "source": [
    "\"\"\"load the model jacobians and hessians and calculate target model predictions\"\"\"\n",
    "jdict = load_dict('XYI_jacs')\n",
    "hdict = load_dict('XYI_hess')"
   ]
  },
  {
   "cell_type": "code",
   "execution_count": 26,
   "id": "00c62e7b-7332-4482-9419-46992057f7a4",
   "metadata": {},
   "outputs": [
    {
     "name": "stdout",
     "output_type": "stream",
     "text": [
      "--- Iterative GST: [##################################################] 100.0%  92 circuits ---\n",
      "Iterative GST Total Time: 1.1s\n",
      "--- Iterative GST: [##################################################] 100.0%  168 circuits ---\n",
      "Iterative GST Total Time: 0.8s\n",
      "--- Iterative GST: [##################################################] 100.0%  285 circuits ---\n",
      "Iterative GST Total Time: 2.0s\n",
      "--- Iterative GST: [##################################################] 100.0%  448 circuits ---\n",
      "Iterative GST Total Time: 2.7s\n",
      "--- Iterative GST: [##################################################] 100.0%  616 circuits ---\n",
      "Iterative GST Total Time: 3.7s\n"
     ]
    }
   ],
   "source": [
    "mle_estimates, edesigns = make_mle_estimates(dataset, std, target_model, maxLengths)"
   ]
  },
  {
   "cell_type": "code",
   "execution_count": 27,
   "id": "308c4880-0dfd-4469-8c21-9529f0dcec7b",
   "metadata": {},
   "outputs": [
    {
     "name": "stdout",
     "output_type": "stream",
     "text": [
      "initial MLE model is cptp False\n",
      "mse with datagen 0.0006090160207160094\n",
      "agsi with datagen -0.0019240844643075184\n"
     ]
    }
   ],
   "source": [
    "print('initial MLE model is cptp', model_is_cptp(mle_estimates[0]))\n",
    "print('mse with datagen', mserror(mdl_datagen, mle_estimates[0]))\n",
    "print('agsi with datagen', avg_gs_infidelity(mdl_datagen, mle_estimates[0]))"
   ]
  },
  {
   "cell_type": "code",
   "execution_count": 28,
   "id": "e61d22a2-23ae-4a45-aee1-cc0b51ab1ce8",
   "metadata": {},
   "outputs": [
    {
     "name": "stdout",
     "output_type": "stream",
     "text": [
      "final MLE model is cptp False\n",
      "mse with datagen 2.0799742050068675e-05\n",
      "agsi with datagen -0.00014070555131728835\n"
     ]
    }
   ],
   "source": [
    "print('final MLE model is cptp', model_is_cptp(mle_estimates[-1]))\n",
    "print('mse with datagen', mserror(mdl_datagen, mle_estimates[-1]))\n",
    "print('agsi with datagen', avg_gs_infidelity(mdl_datagen, mle_estimates[-1]))"
   ]
  },
  {
   "cell_type": "code",
   "execution_count": 29,
   "id": "ec1ad679-8687-4124-bcdd-a3ee1a9b465a",
   "metadata": {},
   "outputs": [
    {
     "name": "stderr",
     "output_type": "stream",
     "text": [
      "100%|████████████████████████████████████████████████████████████████████████████████████████████████████████████████████████████████████████████████████████████████████████████| 616/616 [00:38<00:00, 15.94it/s]\n",
      "100%|████████████████████████████████████████████████████████████████████████████████████████████████████████████████████████████████████████████████████████████████████████████| 616/616 [00:41<00:00, 14.81it/s]\n"
     ]
    }
   ],
   "source": [
    "\"\"\"filter the dataset using an exact filter seeded at the target and mle1 estimate\"\"\"\n",
    "prior_covar_strength =  mserror(mdl_datagen, target_model)**2\n",
    "prior_covar = prior_covar_strength*np.eye(target_model.num_params)\n",
    "\n",
    "ekf1 = ExtendedKalmanFilter(target_model, prior_covar)\n",
    "ekf2 = ExtendedKalmanFilter(mle_estimates[0], prior_covar)\n",
    "\n",
    "ekf1.filter_dataset(edesign.circuit_lists[-1], dataset)\n",
    "ekf2.filter_dataset(edesign.circuit_lists[-1], dataset)"
   ]
  },
  {
   "cell_type": "code",
   "execution_count": 30,
   "id": "62a2edb1-934f-41b2-b4c8-9b2167bea872",
   "metadata": {},
   "outputs": [
    {
     "name": "stderr",
     "output_type": "stream",
     "text": [
      "100%|███████████████████████████████████████████████████████████████████████████████████████████████████████████████████████████████████████████████████████████████████████████| 616/616 [00:04<00:00, 146.74it/s]\n"
     ]
    }
   ],
   "source": [
    "\"\"\"filter the dataset using a fast filter seeded at the target\"\"\"\n",
    "prior_covar_strength =  mserror(mdl_datagen, target_model)**2\n",
    "prior_covar = prior_covar_strength*np.eye(target_model.num_params)\n",
    "\n",
    "fkf1 = ExtendedKalmanFilter(target_model, prior_covar)\n",
    "\n",
    "fkf1.fast_filter_dataset(edesign.circuit_lists[-1], dataset, jdict, hdict)"
   ]
  },
  {
   "cell_type": "code",
   "execution_count": 31,
   "id": "a0da9337-09fb-43dc-a0fa-b2022a8927d2",
   "metadata": {},
   "outputs": [
    {
     "name": "stderr",
     "output_type": "stream",
     "text": [
      "100%|████████████████████████████████████████████████████████████████████████████████████████████████████████████████████████████████████████████████████████████████████████████| 331/331 [04:24<00:00,  1.25it/s]\n"
     ]
    }
   ],
   "source": [
    "\"\"\"construct a reseeded fast filter\"\"\"\n",
    "initial_circuit_index = 285\n",
    "prior_model = target_model.copy()\n",
    "prior_model.from_vector(ekf1.param_history[initial_circuit_index])\n",
    "\n",
    "jacs_reseeded = dict()\n",
    "hess_reseeded = dict()\n",
    "\n",
    "for circ in tqdm(edesign.circuit_lists[-1][initial_circuit_index::]):\n",
    "    jacs_reseeded[circ] = matrix_from_jacob(prior_model.sim.dprobs(circ), 2**circ.width)\n",
    "    hess_reseeded[circ] = tensor_from_hessian(prior_model.sim.hprobs(circ), 2**circ.width)"
   ]
  },
  {
   "cell_type": "code",
   "execution_count": 32,
   "id": "afecb249-c5e6-482e-9627-1f6dd61867e1",
   "metadata": {},
   "outputs": [
    {
     "name": "stderr",
     "output_type": "stream",
     "text": [
      "100%|███████████████████████████████████████████████████████████████████████████████████████████████████████████████████████████████████████████████████████████████████████████| 331/331 [00:02<00:00, 160.33it/s]\n"
     ]
    }
   ],
   "source": [
    "\"\"\"estimate with the reseeded fast filter\"\"\"\n",
    "fkf2 = ExtendedKalmanFilter(prior_model, ekf1.covar_history[initial_circuit_index])\n",
    "fkf2.fast_filter_dataset(edesign.circuit_lists[-1][initial_circuit_index::], dataset, jacs_reseeded, hess_reseeded)"
   ]
  },
  {
   "cell_type": "code",
   "execution_count": 33,
   "id": "8d64fcf2-60d0-4a74-a784-2d13e5b09cf9",
   "metadata": {},
   "outputs": [],
   "source": [
    "\"\"\"set germ circuit ranges for the mle batches\"\"\"\n",
    "germ_length_ranges = {\n",
    "    0: [0, 92], \n",
    "    1: [92, 168], \n",
    "    2: [168, 285], \n",
    "    3: [285, 448],\n",
    "    4: [448, 616],\n",
    "}"
   ]
  },
  {
   "cell_type": "code",
   "execution_count": 34,
   "id": "7892a819-552b-44db-b67c-f44d2a73be2c",
   "metadata": {},
   "outputs": [
    {
     "data": {
      "text/plain": [
       "Text(0, 0.5, 'MSE [log]')"
      ]
     },
     "execution_count": 34,
     "metadata": {},
     "output_type": "execute_result"
    },
    {
     "data": {
      "image/png": "[encoded data removed]",
      "text/plain": [
       "<Figure size 640x480 with 2 Axes>"
      ]
     },
     "metadata": {},
     "output_type": "display_data"
    }
   ],
   "source": [
    "\"\"\"Evolution of MSE and uncertainty\"\"\"\n",
    "fig, axs = plt.subplots(1, 2,  gridspec_kw={'width_ratios': [3, 1]})\n",
    "y_range = [-5.1, -1.6]\n",
    "\n",
    "axs[0].set_title('Total Estimate Error')\n",
    "axs[1].set_title('Uncertainty')\n",
    "\n",
    "true_params = mdl_datagen.to_vector()\n",
    "ekf1_error = []\n",
    "ekf2_error = []\n",
    "fkf1_error = []\n",
    "fkf2_error = []\n",
    "\n",
    "ekf1_uncert = []\n",
    "ekf2_uncert = []\n",
    "fkf1_uncert = []\n",
    "fkf2_uncert = []\n",
    "\n",
    "for i in range(len(ekf1.param_history)):\n",
    "    ekf1_error.append( np.log10((ekf1.param_history[i]-true_params)@(ekf1.param_history[i]-true_params)) )\n",
    "    ekf2_error.append( np.log10((ekf2.param_history[i]-true_params)@(ekf2.param_history[i]-true_params)) )\n",
    "    fkf1_error.append( np.log10((fkf1.param_history[i]-true_params)@(fkf1.param_history[i]-true_params)) )\n",
    "    ekf1_uncert.append( np.log10((np.trace(ekf1.covar_history[i]))) )\n",
    "    ekf2_uncert.append( np.log10((np.trace(ekf2.covar_history[i]))) )\n",
    "    fkf1_uncert.append( np.log10((np.trace(fkf1.covar_history[i]))) )\n",
    "for i in range(len(fkf2.param_history)):\n",
    "    fkf2_error.append( np.log10((fkf2.param_history[i]-true_params)@(fkf2.param_history[i]-true_params)) )\n",
    "    fkf2_uncert.append( np.log10((np.trace(fkf2.covar_history[i]))) )\n",
    "    \n",
    "fkf1_uline, = axs[1].plot(fkf1_uncert, c='magenta', lw=5, linestyle='dotted')\n",
    "fkf2_uline, = axs[1].plot(range(initial_circuit_index, len(ekf1.param_history)), fkf2_uncert, c='cyan', lw=5, linestyle='dashed')\n",
    "ekf1_uline, = axs[1].plot(ekf1_uncert, c='red', lw=5, linestyle='solid')\n",
    "ekf2_uline, = axs[1].plot(ekf2_uncert, c='blue', lw=5, linestyle='dashdot')\n",
    "\n",
    "fkf1_line, = axs[0].plot(fkf1_error, c='magenta', linestyle='dotted')\n",
    "fkf2_line, = axs[0].plot(range(initial_circuit_index, len(ekf1.param_history)), fkf2_error, c='cyan', linestyle='dashed')\n",
    "ekf1_line, = axs[0].plot(ekf1_error, c='red', linestyle='solid')\n",
    "ekf2_line, = axs[0].plot(ekf2_error, c='blue', linestyle='dashdot')\n",
    "\n",
    "\n",
    "if mle_estimates is not None:\n",
    "    for i, mdl in enumerate(mle_estimates):\n",
    "        mle_error = np.log10(mserror(mdl, mdl_datagen))\n",
    "        mle_line, = axs[0].plot(germ_length_ranges[i], (mle_error, mle_error), c='gray', label='MLE Estimate')\n",
    "        mle_line, = axs[1].plot(germ_length_ranges[i], (mle_error, mle_error), c='gray', label='MLE Estimate')\n",
    "\n",
    "axs[0].legend([mle_line, ekf1_line, ekf2_line, fkf1_line, fkf2_line], ['MLE Estimates', 'Target seeded exact', 'MLE1 seeded exact', 'Target seeded fast', 'Filter seeded fast'])\n",
    "if y_range is not None:\n",
    "    axs[0].set_ylim(y_range[0], y_range[1])\n",
    "    axs[1].set_ylim(y_range[0], y_range[1])\n",
    "axs[0].set_xlabel('Circuit Index')\n",
    "axs[1].set_xlabel('Circuit Index')\n",
    "axs[0].set_ylabel('MSE [log]')"
   ]
  },
  {
   "cell_type": "code",
   "execution_count": 19,
   "id": "0ae989ba-8ecf-4cfc-8973-b7951c8100c4",
   "metadata": {},
   "outputs": [
    {
     "name": "stderr",
     "output_type": "stream",
     "text": [
      "The PostScript backend does not support transparency; partially transparent artists will be rendered opaque.\n"
     ]
    }
   ],
   "source": [
    "fig.savefig('MSE_evolution.eps', dpi=350, format=\"eps\", pad_inches=0.1)"
   ]
  },
  {
   "cell_type": "code",
   "execution_count": 20,
   "id": "4fb03144-9d70-4318-8716-ee312ab502e0",
   "metadata": {},
   "outputs": [],
   "source": [
    "%matplotlib inline"
   ]
  },
  {
   "cell_type": "code",
   "execution_count": 65,
   "id": "7eef9439-f710-4098-bd00-77a0bdc81a48",
   "metadata": {},
   "outputs": [
    {
     "data": {
      "text/plain": [
       "Text(0, 0.5, 'Estimate error')"
      ]
     },
     "execution_count": 65,
     "metadata": {},
     "output_type": "execute_result"
    },
    {
     "data": {
      "image/png": "[encoded data removed]",
      "text/plain": [
       "<Figure size 432x288 with 1 Axes>"
      ]
     },
     "metadata": {
      "needs_background": "light"
     },
     "output_type": "display_data"
    }
   ],
   "source": [
    "\"\"\"evolution of hamiltonian parameter error\"\"\"\n",
    "\n",
    "ekf1_mserrors = np.zeros((len(hamiltonian_params), len(ekf1.param_history)))\n",
    "ekf1_var = np.zeros((len(hamiltonian_params), len(ekf1.param_history)))\n",
    "true_params = mdl_datagen.to_vector()\n",
    "\n",
    "for i in range(len(ekf1.param_history)):\n",
    "    for j in range(len(hamiltonian_params)):\n",
    "        ekf1_mserrors[j, i] = ekf1.param_history[i][hamiltonian_params[j]]-true_params[hamiltonian_params[j]]\n",
    "        ekf1_var[j, i] = ekf1.covar_history[i][hamiltonian_params[j],hamiltonian_params[j]]\n",
    "param_lines = []   \n",
    "for j in range(len(hamiltonian_params)):\n",
    "    line, = plt.plot(ekf1_mserrors[j, :])\n",
    "    sigma = np.sqrt(ekf1_var[j, :])\n",
    "    param_lines.append(line)\n",
    "    plt.fill_between(range(len(ekf1_mserrors[j, :])), ekf1_mserrors[j, :]-sigma, ekf1_mserrors[j, :]+sigma, alpha=0.5)\n",
    "plt.legend(param_lines, [mdl_datagen.fogi_errorgen_component_labels()[i] for i in hamiltonian_params])\n",
    "\n",
    "plt.title('Evolution of FOGI Hamiltonian error')\n",
    "plt.xlabel('Circuit index')\n",
    "plt.ylabel('Estimate error')"
   ]
  },
  {
   "cell_type": "code",
   "execution_count": 86,
   "id": "081c64d7-1cd4-481e-8a8d-a3341ca57efc",
   "metadata": {},
   "outputs": [],
   "source": [
    "cptp_target = std.target_model('CPTP')"
   ]
  },
  {
   "cell_type": "code",
   "execution_count": 87,
   "id": "826e3775-9dae-41a3-b6da-19a9aa58fcbe",
   "metadata": {},
   "outputs": [],
   "source": [
    "# setup the datagen model\n",
    "max_fogi_error_rate = 0.12\n",
    "mdl_datagen = std.target_model('H+s')\n",
    "basis1q = pygsti.baseobjs.Basis.cast('pp', 4)\n",
    "gauge_basis = pygsti.baseobjs.CompleteElementaryErrorgenBasis(\n",
    "                        basis1q, mdl_datagen.state_space, elementary_errorgen_types='HS')\n",
    "mdl_datagen.setup_fogi(gauge_basis, None, None, reparameterize=True,\n",
    "                     dependent_fogi_action='drop', include_spam=True)\n",
    "ar = mdl_datagen.fogi_errorgen_components_array(include_fogv=False, normalized_elem_gens=True)\n",
    "fogi_target_model = mdl_datagen.copy()\n",
    "np.random.seed(SEED)\n",
    "ar = max_fogi_error_rate * np.random.rand(len(ar))\n",
    "mdl_datagen.set_fogi_errorgen_components_array(ar, include_fogv=False, normalized_elem_gens=True)"
   ]
  },
  {
   "cell_type": "code",
   "execution_count": 88,
   "id": "e532a6ea-4dba-4260-aa2f-2b21933577d4",
   "metadata": {},
   "outputs": [
    {
     "data": {
      "text/plain": [
       "0.11770128705202798"
      ]
     },
     "execution_count": 88,
     "metadata": {},
     "output_type": "execute_result"
    }
   ],
   "source": [
    "avg_gs_infidelity(mdl_datagen, fogi_target_model)"
   ]
  },
  {
   "cell_type": "code",
   "execution_count": 89,
   "id": "323618b0-ae81-4cb4-a596-a07643286d0d",
   "metadata": {},
   "outputs": [],
   "source": [
    "# make an edesign and simulate the data\n",
    "maxLengths = [1,2,4]\n",
    "maxlength_edesign = pygsti.protocols.StandardGSTDesign(cptp_target, std.prep_fiducials(), std.meas_fiducials(),\n",
    "                                                std.germs(), maxLengths)\n",
    "dataset = pygsti.data.simulate_data(mdl_datagen, maxlength_edesign, SAMPLES, seed=SEED) #, sample_error='none')"
   ]
  },
  {
   "cell_type": "code",
   "execution_count": 90,
   "id": "54c686f2-7974-4aa9-81bd-84c5c866ae64",
   "metadata": {},
   "outputs": [
    {
     "name": "stdout",
     "output_type": "stream",
     "text": [
      "--- Iterative GST: [##################################################] 100.0%  92 circuits ---\n",
      "Iterative GST Total Time: 3.1s\n",
      "--- Iterative GST: [##################################################] 100.0%  168 circuits ---\n",
      "Iterative GST Total Time: 6.3s\n",
      "--- Iterative GST: [##################################################] 100.0%  285 circuits ---\n",
      "Iterative GST Total Time: 7.8s\n"
     ]
    }
   ],
   "source": [
    "cptp_mle_estimates, edesigns = make_mle_estimates(dataset, std, cptp_target, maxLengths)"
   ]
  },
  {
   "cell_type": "code",
   "execution_count": 91,
   "id": "c783c71f-6e5c-45fd-b028-d1a41eca95af",
   "metadata": {},
   "outputs": [],
   "source": [
    "prior_cptp_covar = 0.1*np.eye(cptp_target.num_params)"
   ]
  },
  {
   "cell_type": "code",
   "execution_count": 93,
   "id": "f5a5596f-95e7-4173-b8e9-089a04642a19",
   "metadata": {},
   "outputs": [
    {
     "name": "stderr",
     "output_type": "stream",
     "text": [
      "100%|██████████████████████████████████████████████████████████████████████████████████████████████████████████████████████████████████████████████████████████████████████████████████████████████████████| 285/285 [00:22<00:00, 12.58it/s]\n"
     ]
    }
   ],
   "source": [
    "post_cptp_mle1seed, cptp_mle1_covar, saved_data = filter_dataset(cptp_mle_estimates[0], prior_cptp_covar, dataset, maxlength_edesign.circuit_lists[-1], \n",
    "                   None, None, clip_range=[-1, 1],\n",
    "                   max_itr=1, itr_eps=1e-4,\n",
    "                   save_params_and_covars=True, save_prior_innovations=False, save_posterior_innovations=False, save_kgains=False)"
   ]
  },
  {
   "cell_type": "code",
   "execution_count": 94,
   "id": "76dde599-40ba-4fa4-a003-339979ccd6c0",
   "metadata": {},
   "outputs": [
    {
     "name": "stderr",
     "output_type": "stream",
     "text": [
      "100%|██████████████████████████████████████████████████████████████████████████████████████████████████████████████████████████████████████████████████████████████████████████████████████████████████████| 285/285 [00:25<00:00, 11.28it/s]\n"
     ]
    }
   ],
   "source": [
    "post_cptp_targetseed, cptp_targetseed_covar, saved_data = filter_dataset(cptp_target, prior_cptp_covar, dataset, maxlength_edesign.circuit_lists[-1], \n",
    "                   None, None, clip_range=[-1, 1],\n",
    "                   max_itr=1, itr_eps=1e-4,\n",
    "                   save_params_and_covars=True, save_prior_innovations=False, save_posterior_innovations=False, save_kgains=False)"
   ]
  },
  {
   "cell_type": "code",
   "execution_count": 95,
   "id": "12c42a1c-4a5d-4977-968d-3342a0a385de",
   "metadata": {},
   "outputs": [
    {
     "data": {
      "text/plain": [
       "-847.0902220850269"
      ]
     },
     "execution_count": 95,
     "metadata": {},
     "output_type": "execute_result"
    }
   ],
   "source": [
    "max_loglikelihood(maxlength_edesign.circuit_lists[-1], dataset)"
   ]
  },
  {
   "cell_type": "code",
   "execution_count": 96,
   "id": "7d127f53-7b74-485f-9fa3-20b267d6a53e",
   "metadata": {},
   "outputs": [
    {
     "data": {
      "text/plain": [
       "-999.9591684826103"
      ]
     },
     "execution_count": 96,
     "metadata": {},
     "output_type": "execute_result"
    }
   ],
   "source": [
    "experimental_loglikelihood(maxlength_edesign.circuit_lists[-1], dataset, cptp_mle_estimates[0])"
   ]
  },
  {
   "cell_type": "code",
   "execution_count": 97,
   "id": "c77815e9-874a-42be-8cfa-41213794672a",
   "metadata": {},
   "outputs": [
    {
     "data": {
      "text/plain": [
       "-971.311268200813"
      ]
     },
     "execution_count": 97,
     "metadata": {},
     "output_type": "execute_result"
    }
   ],
   "source": [
    "experimental_loglikelihood(maxlength_edesign.circuit_lists[-1], dataset, cptp_mle_estimates[-1])"
   ]
  },
  {
   "cell_type": "code",
   "execution_count": 98,
   "id": "47b66876-82a9-4b3d-afd4-4865448655a8",
   "metadata": {},
   "outputs": [
    {
     "data": {
      "text/plain": [
       "-2404.615271471128"
      ]
     },
     "execution_count": 98,
     "metadata": {},
     "output_type": "execute_result"
    }
   ],
   "source": [
    "experimental_loglikelihood(maxlength_edesign.circuit_lists[-1], dataset, cptp_zero_ekf.model)"
   ]
  },
  {
   "cell_type": "code",
   "execution_count": 99,
   "id": "9c655fdb-3eca-4659-8afe-c8703638ac6d",
   "metadata": {},
   "outputs": [
    {
     "data": {
      "text/plain": [
       "-971.329735215731"
      ]
     },
     "execution_count": 99,
     "metadata": {},
     "output_type": "execute_result"
    }
   ],
   "source": [
    "experimental_loglikelihood(maxlength_edesign.circuit_lists[-1], dataset, cptp_mle1_ekf.model)"
   ]
  },
  {
   "cell_type": "code",
   "execution_count": 100,
   "id": "81d215ca-5ee7-4789-a614-96e28c7b644e",
   "metadata": {},
   "outputs": [
    {
     "name": "stdout",
     "output_type": "stream",
     "text": [
      "--- Iterative GST: [##################################################] 100.0%  92 circuits ---\n",
      "Iterative GST Total Time: 0.7s\n",
      "--- Iterative GST: [##################################################] 100.0%  168 circuits ---\n",
      "Iterative GST Total Time: 0.8s\n",
      "--- Iterative GST: [##################################################] 100.0%  285 circuits ---\n",
      "Iterative GST Total Time: 1.2s\n"
     ]
    }
   ],
   "source": [
    "fogi_mle_estimates, edesigns = make_mle_estimates(dataset, std, fogi_target_model, maxLengths)"
   ]
  },
  {
   "cell_type": "code",
   "execution_count": 103,
   "id": "e0058f09-adb7-4ed5-9dd4-908cbeb40992",
   "metadata": {},
   "outputs": [],
   "source": [
    "prior_fogi_covar = 0.1*np.eye(fogi_target_model.num_params)"
   ]
  },
  {
   "cell_type": "code",
   "execution_count": 111,
   "id": "c7afc1d3-9f95-4a7c-a041-5d121bbceda7",
   "metadata": {},
   "outputs": [
    {
     "name": "stderr",
     "output_type": "stream",
     "text": [
      "100%|██████████████████████████████████████████████████████████████████████████████████████████████████████████████████████████████████████████████████████████████████████████████████████████████████████| 285/285 [00:13<00:00, 21.09it/s]\n"
     ]
    }
   ],
   "source": [
    "post_fogi_mle1seed, mle1_covar, saved_data = filter_dataset(fogi_mle_estimates[0], prior_fogi_covar, dataset, maxlength_edesign.circuit_lists[-1], \n",
    "                   None, None, clip_range=[-1, 1],\n",
    "                   max_itr=1, itr_eps=1e-4,\n",
    "                   save_params_and_covars=True, save_prior_innovations=False, save_posterior_innovations=False, save_kgains=False)"
   ]
  },
  {
   "cell_type": "code",
   "execution_count": 105,
   "id": "b46320e4-af2f-4a67-a3fb-c2531f4490eb",
   "metadata": {},
   "outputs": [
    {
     "name": "stderr",
     "output_type": "stream",
     "text": [
      "100%|██████████████████████████████████████████████████████████████████████████████████████████████████████████████████████████████████████████████████████████████████████████████████████████████████████| 285/285 [00:13<00:00, 21.09it/s]\n"
     ]
    }
   ],
   "source": [
    "post_fogi_targetseed, targetseed_covar, saved_data = filter_dataset(fogi_target_model, prior_fogi_covar, dataset, maxlength_edesign.circuit_lists[-1], \n",
    "                   None, None, clip_range=[-1, 1],\n",
    "                   max_itr=1, itr_eps=1e-4,\n",
    "                   save_params_and_covars=True, save_prior_innovations=False, save_posterior_innovations=False, save_kgains=False)"
   ]
  },
  {
   "cell_type": "code",
   "execution_count": 112,
   "id": "76035d98-6819-4931-9bc0-ca7e5b362a80",
   "metadata": {},
   "outputs": [
    {
     "data": {
      "text/plain": [
       "-847.0902220850269"
      ]
     },
     "execution_count": 112,
     "metadata": {},
     "output_type": "execute_result"
    }
   ],
   "source": [
    "max_loglikelihood(maxlength_edesign.circuit_lists[-1], dataset)"
   ]
  },
  {
   "cell_type": "code",
   "execution_count": 113,
   "id": "232ba677-c28a-40a8-8a4c-3af62197bfa8",
   "metadata": {},
   "outputs": [
    {
     "data": {
      "text/plain": [
       "-994.3977133457206"
      ]
     },
     "execution_count": 113,
     "metadata": {},
     "output_type": "execute_result"
    }
   ],
   "source": [
    "experimental_loglikelihood(maxlength_edesign.circuit_lists[-1], dataset, fogi_mle_estimates[0])"
   ]
  },
  {
   "cell_type": "code",
   "execution_count": 114,
   "id": "a4e0cc88-92c7-4af3-8fe4-0d5b2240cf42",
   "metadata": {},
   "outputs": [
    {
     "data": {
      "text/plain": [
       "-976.8536459996624"
      ]
     },
     "execution_count": 114,
     "metadata": {},
     "output_type": "execute_result"
    }
   ],
   "source": [
    "experimental_loglikelihood(maxlength_edesign.circuit_lists[-1], dataset, fogi_mle_estimates[-1])"
   ]
  },
  {
   "cell_type": "code",
   "execution_count": 115,
   "id": "c9f9fcfc-aafa-487b-9a9a-b91b061c8a5f",
   "metadata": {},
   "outputs": [
    {
     "data": {
      "text/plain": [
       "-977.3734515824826"
      ]
     },
     "execution_count": 115,
     "metadata": {},
     "output_type": "execute_result"
    }
   ],
   "source": [
    "experimental_loglikelihood(maxlength_edesign.circuit_lists[-1], dataset, post_fogi_mle1seed)"
   ]
  },
  {
   "cell_type": "code",
   "execution_count": 117,
   "id": "31efd315-465d-432f-9f13-1f4785ce883b",
   "metadata": {},
   "outputs": [
    {
     "data": {
      "text/plain": [
       "-977.0866225452755"
      ]
     },
     "execution_count": 117,
     "metadata": {},
     "output_type": "execute_result"
    }
   ],
   "source": [
    "experimental_loglikelihood(maxlength_edesign.circuit_lists[-1], dataset, post_fogi_targetseed)"
   ]
  },
  {
   "cell_type": "code",
   "execution_count": null,
   "id": "05f39c90-ecf6-4892-a901-c090001d3ed8",
   "metadata": {},
   "outputs": [],
   "source": [
    "log_likelihoods = ["
   ]
  },
  {
   "cell_type": "code",
   "execution_count": 86,
   "id": "0e582a65-556c-4f51-8499-7d24568da40c",
   "metadata": {},
   "outputs": [],
   "source": [
    "def plot_covar_evals(covar_dict):\n",
    "    evals = []\n",
    "    for c in range(num_circs):\n",
    "        circ_eval, _ = np.linalg.eig(covar_dict[c])\n",
    "        evals.append(circ_eval)\n",
    "    plt.matshow(abs(np.array(evals).T))\n",
    "    \n",
    "def plot_covar_svals(covar_dict):\n",
    "    svals = []\n",
    "    for c in range(num_circs):\n",
    "        _, circ_sval, _ = np.linalg.svd(covar_dict[c])\n",
    "        svals.append(circ_sval)\n",
    "    plt.matshow(abs(np.array(svals).T))"
   ]
  },
  {
   "cell_type": "code",
   "execution_count": 87,
   "id": "503b0115-273e-4533-97e2-4b7dafb68173",
   "metadata": {},
   "outputs": [
    {
     "data": {
      "image/png": "[encoded data removed]",
      "text/plain": [
       "<Figure size 1152x144 with 1 Axes>"
      ]
     },
     "metadata": {
      "needs_background": "light"
     },
     "output_type": "display_data"
    }
   ],
   "source": [
    "plot_covar_evals(mle1_covars)"
   ]
  },
  {
   "cell_type": "code",
   "execution_count": 88,
   "id": "5d7f76e5-0786-4464-a4bd-09bf95793924",
   "metadata": {},
   "outputs": [
    {
     "data": {
      "image/png": "[encoded data removed]",
      "text/plain": [
       "<Figure size 1152x144 with 1 Axes>"
      ]
     },
     "metadata": {
      "needs_background": "light"
     },
     "output_type": "display_data"
    }
   ],
   "source": [
    "plot_covar_svals(mle1_covars)"
   ]
  },
  {
   "cell_type": "code",
   "execution_count": 91,
   "id": "815a7a1c-da52-486f-869b-807e1d379fe7",
   "metadata": {},
   "outputs": [
    {
     "data": {
      "image/png": "[encoded data removed]",
      "text/plain": [
       "<Figure size 1152x144 with 1 Axes>"
      ]
     },
     "metadata": {
      "needs_background": "light"
     },
     "output_type": "display_data"
    }
   ],
   "source": [
    "plot_covar_evals(cptp_mle1_covars)"
   ]
  },
  {
   "cell_type": "code",
   "execution_count": 92,
   "id": "d357d211-3e07-4508-9711-4cfb5c55d879",
   "metadata": {},
   "outputs": [
    {
     "data": {
      "image/png": "[encoded data removed]",
      "text/plain": [
       "<Figure size 1152x144 with 1 Axes>"
      ]
     },
     "metadata": {
      "needs_background": "light"
     },
     "output_type": "display_data"
    }
   ],
   "source": [
    "plot_covar_svals(cptp_mle1_covars)"
   ]
  }
 ],
 "metadata": {
  "kernelspec": {
   "display_name": "Python 3 (ipykernel)",
   "language": "python",
   "name": "python3"
  },
  "language_info": {
   "codemirror_mode": {
    "name": "ipython",
    "version": 3
   },
   "file_extension": ".py",
   "mimetype": "text/x-python",
   "name": "python",
   "nbconvert_exporter": "python",
   "pygments_lexer": "ipython3",
   "version": "3.10.8"
  }
 },
 "nbformat": 4,
 "nbformat_minor": 5
}
