{
 "cells": [
  {
   "cell_type": "code",
   "execution_count": 1,
   "id": "acc95818-4aed-4fe6-bea4-56ef11033e58",
   "metadata": {
    "ExecuteTime": {
     "end_time": "2023-06-01T22:34:08.613762394Z",
     "start_time": "2023-06-01T22:34:07.411176945Z"
    }
   },
   "outputs": [],
   "source": [
    "from kalman_gst import *  \n",
    "from pygsti.modelpacks import smq1Q_XYI as std\n",
    "import random"
   ]
  },
  {
   "cell_type": "code",
   "execution_count": 2,
   "id": "8ba736cd-e701-4239-853d-9001080e68ed",
   "metadata": {
    "ExecuteTime": {
     "end_time": "2023-06-01T22:34:08.620312970Z",
     "start_time": "2023-06-01T22:34:08.614761333Z"
    }
   },
   "outputs": [],
   "source": [
    "SAMPLES = 256"
   ]
  },
  {
   "cell_type": "code",
   "execution_count": 3,
   "id": "545bb707-36f8-45a3-80df-96d2386137d3",
   "metadata": {
    "ExecuteTime": {
     "end_time": "2023-06-01T22:34:08.937929913Z",
     "start_time": "2023-06-01T22:34:08.619093954Z"
    }
   },
   "outputs": [],
   "source": [
    "# setup the FOGI model\n",
    "mdl_datagen = std.target_model('H+s')\n",
    "basis1q = pygsti.baseobjs.Basis.cast('pp', 4)\n",
    "gauge_basis = pygsti.baseobjs.CompleteElementaryErrorgenBasis(\n",
    "                        basis1q, mdl_datagen.state_space, elementary_errorgen_types='HS')\n",
    "mdl_datagen.setup_fogi(gauge_basis, None, None, reparameterize=True,\n",
    "                     dependent_fogi_action='drop', include_spam=True)\n",
    "target_model = mdl_datagen.copy()"
   ]
  },
  {
   "cell_type": "code",
   "execution_count": 4,
   "id": "c4d48089-ae31-40f9-a57a-dbbded9b20ac",
   "metadata": {
    "ExecuteTime": {
     "end_time": "2023-06-01T22:34:08.951538850Z",
     "start_time": "2023-06-01T22:34:08.941445964Z"
    }
   },
   "outputs": [
    {
     "data": {
      "text/plain": [
       "('H(X:0)_[]',\n",
       " 'H(Y:0)_[]',\n",
       " 'H(Z:0)_[]',\n",
       " 'S(X:0)_[]',\n",
       " 'S(Y:0)_[]',\n",
       " 'S(Z:0)_[]',\n",
       " 'H(X:0)_Gxpi2:0',\n",
       " 'S(X:0)_Gxpi2:0',\n",
       " '(0.5 S(Y:0) + 0.5 S(Z:0))_Gxpi2:0',\n",
       " 'H(Y:0)_Gypi2:0',\n",
       " '(0.5 S(X:0) + 0.5 S(Z:0))_Gypi2:0',\n",
       " 'S(Y:0)_Gypi2:0',\n",
       " 'ga(-H(Z:0))_Gypi2:0 - ga(-H(Z:0))_Gxpi2:0',\n",
       " 'ga(H(Y:0))_rho0 - ga(H(Y:0))_Gxpi2:0',\n",
       " 'ga(-H(Y:0))_Mdefault - ga(-H(Y:0))_Gxpi2:0',\n",
       " 'ga(H(X:0))_rho0 - ga(H(X:0))_Gypi2:0',\n",
       " 'ga(-H(X:0))_Mdefault - ga(-H(X:0))_Gypi2:0',\n",
       " 'ga(-0.5 S(X:0) - 0.5 S(Y:0))_Mdefault - ga(-0.5 S(X:0) - 0.5 S(Y:0))_rho0')"
      ]
     },
     "execution_count": 4,
     "metadata": {},
     "output_type": "execute_result"
    }
   ],
   "source": [
    "# model labels\n",
    "mdl_datagen.fogi_errorgen_component_labels()"
   ]
  },
  {
   "cell_type": "code",
   "execution_count": 5,
   "id": "14e8f964-5abf-4b63-b703-c4107e4c87ab",
   "metadata": {
    "ExecuteTime": {
     "end_time": "2023-06-01T22:34:08.953233911Z",
     "start_time": "2023-06-01T22:34:08.951132859Z"
    }
   },
   "outputs": [
    {
     "name": "stdout",
     "output_type": "stream",
     "text": [
      "['H(X:0)_[]', 'H(Y:0)_[]', 'H(Z:0)_[]', 'H(X:0)_Gxpi2:0', 'H(Y:0)_Gypi2:0']\n"
     ]
    }
   ],
   "source": [
    "# single out hamiltonian parameters\n",
    "hamiltonian_params = [0, 1, 2, 6, 9]\n",
    "print([mdl_datagen.fogi_errorgen_component_labels()[i] for i in hamiltonian_params])"
   ]
  },
  {
   "cell_type": "code",
   "execution_count": 6,
   "id": "9de8d612-acb8-4157-a8a7-20e78e02e08a",
   "metadata": {
    "ExecuteTime": {
     "end_time": "2023-06-01T22:34:08.976589937Z",
     "start_time": "2023-06-01T22:34:08.953588335Z"
    }
   },
   "outputs": [
    {
     "name": "stdout",
     "output_type": "stream",
     "text": [
      "hamiltonian-only MSE with target 0.0042044138696715845\n",
      "hamiltonian-only agsi with target 0.0008397945630547853\n",
      "MSE with target 0.004206609448553395\n",
      "agi with target 0.001550380292738862\n"
     ]
    }
   ],
   "source": [
    "# add noise to the stochastic and hamiltonian parts of the FOGI rates\n",
    "SEED = 2023\n",
    "np.random.seed(SEED)\n",
    "\n",
    "max_stochastic_error_rate = 0.001\n",
    "hamiltonian_error_var = 0.05\n",
    "ar = mdl_datagen.fogi_errorgen_components_array(include_fogv=False, normalized_elem_gens=True)\n",
    "\n",
    "for i in range(len(ar)):\n",
    "    if i in hamiltonian_params:\n",
    "        ar[i] = np.random.normal(0, hamiltonian_error_var)\n",
    "\n",
    "\n",
    "\n",
    "# add hamiltonian noise\n",
    "mdl_datagen.set_fogi_errorgen_components_array(ar, include_fogv=False, normalized_elem_gens=True)\n",
    "print('hamiltonian-only MSE with target', mserror(mdl_datagen, target_model))\n",
    "print('hamiltonian-only agsi with target', avg_gs_infidelity(mdl_datagen, target_model))\n",
    "\n",
    "for i in range(len(ar)):\n",
    "    if i not in hamiltonian_params:\n",
    "        ar[i] = max_stochastic_error_rate*np.random.rand(1)\n",
    "\n",
    "# add stochastic noise\n",
    "mdl_datagen.set_fogi_errorgen_components_array(ar, include_fogv=False, normalized_elem_gens=True)\n",
    "\n",
    "print('MSE with target', mserror(mdl_datagen, target_model))\n",
    "print('agi with target', avg_gs_infidelity(mdl_datagen, target_model))"
   ]
  },
  {
   "cell_type": "code",
   "execution_count": 7,
   "id": "524c46dc-89a1-4c6b-8b2f-f5f97e03a9e1",
   "metadata": {
    "ExecuteTime": {
     "end_time": "2023-06-01T22:34:09.039796600Z",
     "start_time": "2023-06-01T22:34:08.981778396Z"
    }
   },
   "outputs": [
    {
     "name": "stdout",
     "output_type": "stream",
     "text": [
      "model is cptp True\n"
     ]
    }
   ],
   "source": [
    "print('model is cptp', model_is_cptp(mdl_datagen))"
   ]
  },
  {
   "cell_type": "code",
   "execution_count": 8,
   "id": "76fa9735-e378-47ac-b296-4ae8d093babf",
   "metadata": {
    "ExecuteTime": {
     "end_time": "2023-06-01T22:34:10.486916356Z",
     "start_time": "2023-06-01T22:34:09.023461353Z"
    }
   },
   "outputs": [],
   "source": [
    "# make a GST edesign and simulate the data\n",
    "maxLengths = [1,2,4,8,16,32,64,128,256,512]\n",
    "edesign = pygsti.protocols.StandardGSTDesign(target_model, std.prep_fiducials(), std.meas_fiducials(),\n",
    "                                                std.germs(), maxLengths)\n",
    "dataset = pygsti.data.simulate_data(mdl_datagen, edesign, SAMPLES, seed=SEED) #, sample_error='none')"
   ]
  },
  {
   "cell_type": "code",
   "execution_count": 9,
   "id": "00c62e7b-7332-4482-9419-46992057f7a4",
   "metadata": {
    "ExecuteTime": {
     "end_time": "2023-06-01T22:34:44.568832283Z",
     "start_time": "2023-06-01T22:34:10.487820032Z"
    }
   },
   "outputs": [
    {
     "name": "stdout",
     "output_type": "stream",
     "text": [
      "--- Iterative GST: [##################################################] 100.0%  92 circuits ---\n",
      "Iterative GST Total Time: 1.2s\n",
      "--- Iterative GST: [##################################################] 100.0%  168 circuits ---\n",
      "Iterative GST Total Time: 1.0s\n",
      "--- Iterative GST: [##################################################] 100.0%  285 circuits ---\n",
      "Iterative GST Total Time: 2.8s\n",
      "--- Iterative GST: [##################################################] 100.0%  448 circuits ---\n",
      "Iterative GST Total Time: 3.6s\n",
      "--- Iterative GST: [##################################################] 100.0%  616 circuits ---\n",
      "Iterative GST Total Time: 5.0s\n",
      "--- Iterative GST: [##################################################] 100.0%  784 circuits ---\n",
      "Iterative GST Total Time: 5.5s\n",
      "--- Iterative GST: [##################################################] 100.0%  952 circuits ---\n",
      "Iterative GST Total Time: 7.3s\n",
      "--- Iterative GST: [##################################################] 100.0%  1120 circuits ---\n",
      "Iterative GST Total Time: 8.8s\n",
      "--- Iterative GST: [##################################################] 100.0%  1288 circuits ---\n",
      "Iterative GST Total Time: 11.6s\n",
      "--- Iterative GST: [##################################################] 100.0%  1456 circuits ---\n",
      "Iterative GST Total Time: 14.8s\n"
     ]
    }
   ],
   "source": [
    "# make MLE estimates\n",
    "mle_estimates, edesigns = make_mle_estimates(dataset, std, target_model, maxLengths)"
   ]
  },
  {
   "cell_type": "code",
   "execution_count": 10,
   "id": "8d64fcf2-60d0-4a74-a784-2d13e5b09cf9",
   "metadata": {
    "ExecuteTime": {
     "end_time": "2023-06-01T22:34:44.574249Z",
     "start_time": "2023-06-01T22:34:44.571658510Z"
    }
   },
   "outputs": [],
   "source": [
    "# set germ circuit ranges for the mle batches\n",
    "germ_length_ranges = {\n",
    "    0: [0, 92], \n",
    "    1: [92, 168], \n",
    "    2: [168, 285], \n",
    "    3: [285, 448],\n",
    "    4: [448, 616],\n",
    "    5: [616, 784], \n",
    "    6: [784, 952], \n",
    "    7: [952, 1120], \n",
    "    8: [1120, 1288],\n",
    "    9: [1288, 1456],\n",
    "}"
   ]
  },
  {
   "cell_type": "markdown",
   "id": "d41c88e0-f03e-47e0-a435-fa228a7ca127",
   "metadata": {},
   "source": [
    "### Cells below consitute a \"standard practice\" Kalman estimation routine"
   ]
  },
  {
   "cell_type": "code",
   "execution_count": null,
   "id": "c6abbda9-ec75-4551-84ae-2ef99735ceca",
   "metadata": {
    "ExecuteTime": {
     "end_time": "2023-06-01T22:38:15.843990662Z",
     "start_time": "2023-06-01T22:34:44.579269606Z"
    }
   },
   "outputs": [
    {
     "name": "stdout",
     "output_type": "stream",
     "text": [
      "- Sampling 10 circuits at CRB length 0 (1 of 11 depths) with seed 15794\n",
      "- Sampling 10 circuits at CRB length 1 (2 of 11 depths) with seed 15804\n",
      "- Sampling 10 circuits at CRB length 2 (3 of 11 depths) with seed 15814\n",
      "- Sampling 10 circuits at CRB length 4 (4 of 11 depths) with seed 15824\n",
      "- Sampling 10 circuits at CRB length 8 (5 of 11 depths) with seed 15834\n",
      "- Sampling 10 circuits at CRB length 16 (6 of 11 depths) with seed 15844\n",
      "- Sampling 10 circuits at CRB length 32 (7 of 11 depths) with seed 15854\n",
      "- Sampling 10 circuits at CRB length 64 (8 of 11 depths) with seed 15864\n",
      "- Sampling 10 circuits at CRB length 128 (9 of 11 depths) with seed 15874\n",
      "- Sampling 10 circuits at CRB length 256 (10 of 11 depths) with seed 15884\n",
      "- Sampling 10 circuits at CRB length 512 (11 of 11 depths) with seed 15894\n"
     ]
    }
   ],
   "source": [
    "# run a direct RB experiment\n",
    "from pygsti.processors import CliffordCompilationRules as CCR\n",
    "compilations = {'absolute': CCR.create_standard(std.processor_spec(), 'absolute', ('paulis', '1Qcliffords'), verbosity=0),            \n",
    "                'paulieq': CCR.create_standard(std.processor_spec(), 'paulieq', ('1Qcliffords', 'allcnots'), verbosity=0)}\n",
    "depths = [0,1,2,4,8,16,32,64,128,256,512]\n",
    "k = 10\n",
    "# To run direct / mirror RB change CliffordRBDesign -> DirectRBDesign / MirrorRBDesign\n",
    "rb_edesign = pygsti.protocols.CliffordRBDesign(std.processor_spec(), compilations, depths, k)\n",
    "rb_dataset = pygsti.data.simulate_data(mdl_datagen, rb_edesign, 1000)\n",
    "rb_data = pygsti.protocols.ProtocolData(rb_edesign, rb_dataset)\n",
    "rb_protocol = pygsti.protocols.RB()\n",
    "rb_results = rb_protocol.run(rb_data)\n",
    "rb_rate = rb_results.fits['full'].estimates['r']"
   ]
  },
  {
   "cell_type": "code",
   "execution_count": null,
   "id": "2c1cf354-5ac0-4ce8-8c6d-ba177705f041",
   "metadata": {
    "ExecuteTime": {
     "end_time": "2023-06-01T22:38:15.849821549Z",
     "start_time": "2023-06-01T22:38:15.847138241Z"
    }
   },
   "outputs": [],
   "source": [
    "# randomize the germ batches \n",
    "random.seed(SEED)\n",
    "circuits = [c for c in edesign.circuit_lists[-1]]\n",
    "for i in range(-1, len(maxLengths)-1, 1):\n",
    "    if i == -1:\n",
    "        subcircs = circuits[0:len(edesign.circuit_lists[i+1])]\n",
    "    else:\n",
    "        subcircs = circuits[len(edesign.circuit_lists[i]):len(edesign.circuit_lists[i+1])]\n",
    "    np.random.shuffle(subcircs)\n",
    "    if i == -1:\n",
    "        circuits[0:len(edesign.circuit_lists[i+1])] = subcircs\n",
    "    else:\n",
    "        circuits[len(edesign.circuit_lists[i]):len(edesign.circuit_lists[i+1])] = subcircs    "
   ]
  },
  {
   "cell_type": "code",
   "execution_count": null,
   "id": "ec1ad679-8687-4124-bcdd-a3ee1a9b465a",
   "metadata": {
    "ExecuteTime": {
     "end_time": "2023-06-01T22:46:10.326254917Z",
     "start_time": "2023-06-01T22:38:15.851415662Z"
    }
   },
   "outputs": [],
   "source": [
    "# filter the dataset\n",
    "prior_covar_strength =  rb_rate/target_model.num_params\n",
    "prior_covar = prior_covar_strength*np.eye(target_model.num_params)\n",
    "\n",
    "ekf = ExtendedKalmanFilter(target_model, prior_covar)\n",
    "\n",
    "ekf.filter_dataset(circuits, dataset)"
   ]
  },
  {
   "cell_type": "code",
   "execution_count": null,
   "id": "86c5e8fd-01ce-4947-8612-b28785e39b49",
   "metadata": {
    "ExecuteTime": {
     "end_time": "2023-06-01T23:52:40.911337791Z",
     "start_time": "2023-06-01T23:52:40.282855134Z"
    }
   },
   "outputs": [],
   "source": [
    "# MSE evolution plots\n",
    "fig = plt.figure(figsize=(6, 3))\n",
    "ax = fig.add_subplot()\n",
    "ax.set_title('1 qubit mean square error', fontsize=14)\n",
    "\n",
    "true_params = mdl_datagen.to_vector()\n",
    "ekf_error = []\n",
    "ekf_uncert = []\n",
    "\n",
    "for i in range(len(ekf.param_history)):\n",
    "    ekf_error.append( ((ekf.param_history[i]-true_params)@(ekf.param_history[i]-true_params))/ekf.model.num_params) \n",
    "    ekf_uncert.append( (np.trace(ekf.covar_history[i]))/ekf.model.num_params) \n",
    "\n",
    "\n",
    "ekf_line, = ax.plot(ekf_error, c='blue', linestyle='solid')\n",
    "ekf_uline, = ax.plot(ekf_uncert, c='blue', linestyle='dotted')\n",
    "\n",
    "if mle_estimates is not None:\n",
    "    for i, mdl in enumerate(mle_estimates):\n",
    "        mle_error = mserror(mdl, mdl_datagen)/ekf.model.num_params\n",
    "        mle_line, = ax.semilogy(germ_length_ranges[i], (mle_error, mle_error), c='gray', label='MLE Estimate')\n",
    "        \n",
    "plt.legend(['Point estimate error', 'Expected error', 'batched MLE error'])\n",
    "\n",
    "\n",
    "ax.set_xlabel('GST Circuit Index', fontsize=14)\n",
    "ax.set_ylabel('MSE', fontsize=14)\n",
    "plt.savefig('Figures/1qMSE.eps', dpi=350, format=\"eps\", bbox_inches='tight')"
   ]
  },
  {
   "cell_type": "code",
   "execution_count": null,
   "id": "667c8b9e-471e-4af5-abc3-419a72e543e7",
   "metadata": {
    "ExecuteTime": {
     "end_time": "2023-06-01T23:52:42.643402042Z",
     "start_time": "2023-06-01T23:52:42.166964341Z"
    }
   },
   "outputs": [],
   "source": [
    "# MAE (mean absolute error) evolution plots\n",
    "fig = plt.figure(figsize=(6, 3))\n",
    "ax = fig.add_subplot()\n",
    "ax.set_title('1-qubit mean absolute error', fontsize=14)\n",
    "\n",
    "datagen_vec = mdl_datagen.to_vector()\n",
    "estimates = [e.to_vector() for e in mle_estimates]\n",
    "ekf_error = []\n",
    "ekf_uncert = []\n",
    "\n",
    "param_hist = ekf.param_history\n",
    "covar_hist = ekf.covar_history\n",
    "\n",
    "for i in range(len(param_hist)):\n",
    "    ekf_error.append( sum(abs((param_hist[i]-datagen_vec))) /len(param_hist[i]) ) \n",
    "    ekf_uncert.append( (np.trace(np.sqrt(covar_hist[i]))/len(param_hist[i]))  ) \n",
    "\n",
    "\n",
    "ekf_uline, = ax.semilogy(ekf_uncert, c='blue', linestyle='dotted')\n",
    "ekf_line, = ax.plot(ekf_error, c='blue', linestyle='solid')\n",
    "\n",
    "for i, evec in enumerate(estimates):\n",
    "    mle_error = sum(abs(evec - datagen_vec))/len(evec)\n",
    "    mle_line, = ax.plot(germ_length_ranges[i], (mle_error, mle_error), c='gray', label='MLE Estimate')\n",
    "ax.set_xlabel('GST Circuit Index', fontsize=14)\n",
    "ax.set_ylabel('MAE', fontsize=14)\n",
    "plt.savefig('Figures/1qMAE.eps', dpi=350, format=\"eps\", bbox_inches='tight')"
   ]
  },
  {
   "cell_type": "code",
   "execution_count": null,
   "id": "7eef9439-f710-4098-bd00-77a0bdc81a48",
   "metadata": {
    "ExecuteTime": {
     "end_time": "2023-06-01T23:52:43.729104456Z",
     "start_time": "2023-06-01T23:52:43.502684031Z"
    }
   },
   "outputs": [],
   "source": [
    "# Hamiltonian parameter error plots\n",
    "\n",
    "\n",
    "ekf_mserrors = np.zeros((len(hamiltonian_params), len(ekf.param_history)))\n",
    "ekf_var = np.zeros((len(hamiltonian_params), len(ekf.param_history)))\n",
    "true_params = mdl_datagen.to_vector()\n",
    "\n",
    "for i in range(len(ekf.param_history)):\n",
    "    for j in range(len(hamiltonian_params)):\n",
    "        ekf_mserrors[j, i] = ekf.param_history[i][hamiltonian_params[j]]-true_params[hamiltonian_params[j]]\n",
    "        ekf_var[j, i] = ekf.covar_history[i][hamiltonian_params[j],hamiltonian_params[j]]\n",
    "param_lines = []   \n",
    "for j in range(len(hamiltonian_params)):\n",
    "    line, = plt.plot(ekf_mserrors[j, :])\n",
    "    sigma = np.sqrt(ekf_var[j, :])\n",
    "    param_lines.append(line)\n",
    "    plt.fill_between(range(len(ekf_mserrors[j, :])), ekf_mserrors[j, :]-sigma, ekf_mserrors[j, :]+sigma, alpha=0.5)\n",
    "plt.legend(param_lines, [mdl_datagen.fogi_errorgen_component_labels()[i] for i in hamiltonian_params])\n",
    "\n",
    "plt.title('Evolution of FOGI Hamiltonian error')\n",
    "plt.xlabel('Circuit index')\n",
    "plt.ylabel('Estimate error')"
   ]
  },
  {
   "cell_type": "code",
   "execution_count": null,
   "id": "32c5c29a",
   "metadata": {
    "ExecuteTime": {
     "end_time": "2023-06-02T00:04:11.485552383Z",
     "start_time": "2023-06-02T00:04:10.698242936Z"
    },
    "collapsed": false,
    "jupyter": {
     "outputs_hidden": false
    }
   },
   "outputs": [],
   "source": [
    "# Over-rotation error plot\n",
    "fig = plt.figure(figsize=(6, 4))\n",
    "ax = fig.add_subplot()\n",
    "ax.set_title('1 qubit over-rotation estimate', fontsize=14)\n",
    "\n",
    "overrot_errors = np.zeros((2, len(ekf.param_history)))\n",
    "true_params = mdl_datagen.to_vector()\n",
    "\n",
    "for i in range(len(ekf.param_history)):\n",
    "    overrot_errors[0, i] = ekf.param_history[i][6]\n",
    "    overrot_errors[1, i] = ekf.param_history[i][9]\n",
    "\n",
    "xline_estimate, = ax.semilogx(overrot_errors[0, :], c='#d53e4f')\n",
    "sigmas = np.sqrt([c[6,6] for c in ekf.covar_history])\n",
    "ax.fill_between(range(len(overrot_errors[0, :])), overrot_errors[0, :]-sigmas, overrot_errors[0, :]+sigmas, alpha=0.5, color='#d53e4f', linewidth=0.0)\n",
    "yline_estimate, = ax.semilogx(overrot_errors[1, :], c='#3288bd')\n",
    "sigmas = np.sqrt([c[9,9] for c in ekf.covar_history])\n",
    "ax.fill_between(range(len(overrot_errors[1, :])), overrot_errors[1, :]-sigmas, overrot_errors[1, :]+sigmas, alpha=0.5, color='#3288bd', linewidth=0.0)\n",
    "\n",
    "xline_true, = ax.plot((0, len(overrot_errors[0, :])), (true_params[6], true_params[6]), c='#d53e4f', linestyle='dotted')\n",
    "yline_true, = ax.plot((0, len(overrot_errors[0, :])), (true_params[9], true_params[9]), c='#3288bd', linestyle='dotted')\n",
    "\n",
    "\n",
    "ax.legend([xline_estimate, yline_estimate], ['X gate error', 'Y gate error', 'True X gate error', 'True Y gate error'], loc='upper right', title='Estimates')\n",
    "\n",
    "ax.set_xlabel('GST Circuit index', fontsize=14)\n",
    "ax.set_ylabel('Estimate (radians)', fontsize=14)\n",
    "plt.savefig('Figures/1qOverrot.png', dpi=350, format=\"png\", bbox_inches='tight')"
   ]
  },
  {
   "cell_type": "code",
   "execution_count": null,
   "id": "6f965831",
   "metadata": {
    "collapsed": false,
    "jupyter": {
     "outputs_hidden": false
    }
   },
   "outputs": [],
   "source": []
  },
  {
   "cell_type": "code",
   "execution_count": null,
   "id": "19831eea-ef13-4fb0-b234-bcfc17cf7630",
   "metadata": {},
   "outputs": [],
   "source": []
  }
 ],
 "metadata": {
  "kernelspec": {
   "display_name": "Python 3 (ipykernel)",
   "language": "python",
   "name": "python3"
  },
  "language_info": {
   "codemirror_mode": {
    "name": "ipython",
    "version": 3
   },
   "file_extension": ".py",
   "mimetype": "text/x-python",
   "name": "python",
   "nbconvert_exporter": "python",
   "pygments_lexer": "ipython3",
   "version": "3.10.9"
  }
 },
 "nbformat": 4,
 "nbformat_minor": 5
}
