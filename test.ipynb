{
 "cells": [
  {
   "cell_type": "code",
   "execution_count": 24,
   "id": "0345a206-c9aa-4480-90ba-7629f9fdc887",
   "metadata": {},
   "outputs": [],
   "source": [
    "import numpy as np\n",
    "from matplotlib import pyplot as plt\n",
    "import cmath"
   ]
  },
  {
   "cell_type": "code",
   "execution_count": 28,
   "id": "3ff68633-f085-4a41-9342-d68d6ed29b75",
   "metadata": {},
   "outputs": [
    {
     "data": {
      "text/plain": [
       "(0.6143563867870289+0.10342299285276843j)"
      ]
     },
     "execution_count": 28,
     "metadata": {},
     "output_type": "execute_result"
    }
   ],
   "source": [
    "cmath.sqrt(vals[2])"
   ]
  },
  {
   "cell_type": "code",
   "execution_count": 5,
   "id": "490c1f6d-dc51-4952-9600-dbe807ae51d4",
   "metadata": {},
   "outputs": [],
   "source": [
    "M = np.random.rand(4, 4)"
   ]
  },
  {
   "cell_type": "code",
   "execution_count": 6,
   "id": "7a956ab4-9c42-44db-9742-c1f5d874fc36",
   "metadata": {},
   "outputs": [
    {
     "data": {
      "text/plain": [
       "array([2.01847313e+00+0.j        , 1.69677175e-04+0.j        ,\n",
       "       3.66737455e-01+0.12707715j, 3.66737455e-01-0.12707715j])"
      ]
     },
     "execution_count": 6,
     "metadata": {},
     "output_type": "execute_result"
    }
   ],
   "source": [
    "np.linalg.eigvals(M)"
   ]
  },
  {
   "cell_type": "code",
   "execution_count": 34,
   "id": "df6c1048-c074-405a-85cd-ba41c319da39",
   "metadata": {},
   "outputs": [],
   "source": [
    "vals, vecs = np.linalg.eig(M)"
   ]
  },
  {
   "cell_type": "code",
   "execution_count": 35,
   "id": "366ce019-ccba-4b4c-8e4e-867b08bde75f",
   "metadata": {},
   "outputs": [],
   "source": [
    "scaled_vecs = np.zeros(vecs.shape, dtype=complex)\n",
    "for idx, v in enumerate(vals):\n",
    "    scaled_vecs[:, idx] = (1/cmath.sqrt(vals[idx]))*vecs[:, idx]"
   ]
  },
  {
   "cell_type": "code",
   "execution_count": 42,
   "id": "8fc37cb7-41d2-44fc-a20e-d7492a15157d",
   "metadata": {},
   "outputs": [
    {
     "name": "stdout",
     "output_type": "stream",
     "text": [
      "[[ 4.04908087e-01+0.j         -3.60925121e+01+0.j\n",
      "   2.14444535e-02+0.09133179j  2.14444535e-02-0.09133179j]\n",
      " [ 3.78371091e-01+0.j          6.08797384e+01+0.j\n",
      "   1.04374402e+00-0.17570767j  1.04374402e+00+0.17570767j]\n",
      " [ 3.71659768e-01+0.j         -2.04844394e+01+0.j\n",
      "  -4.92478424e-01+0.62585553j -4.92478424e-01-0.62585553j]\n",
      " [ 2.24003928e-01+0.j         -2.15620124e+01+0.j\n",
      "  -7.90530002e-01-0.43383387j -7.90530002e-01+0.43383387j]] [[ 0.57526498+0.j         -0.47014175+0.j          0.00372873+0.05832812j\n",
      "   0.00372873-0.05832812j]\n",
      " [ 0.53756308+0.j          0.79302064+0.j          0.65940302+0.j\n",
      "   0.65940302-0.j        ]\n",
      " [ 0.5280281 +0.j         -0.2668307 +0.j         -0.36728512+0.33356475j\n",
      "  -0.36728512-0.33356475j]\n",
      " [ 0.31824905+0.j         -0.28086719+0.j         -0.44079876-0.34828759j\n",
      "  -0.44079876+0.34828759j]]\n"
     ]
    }
   ],
   "source": [
    "print(scaled_vecs, vecs)"
   ]
  },
  {
   "cell_type": "code",
   "execution_count": 40,
   "id": "a9a7361c-f8df-4eb0-a9d5-5056d158f27f",
   "metadata": {},
   "outputs": [
    {
     "name": "stdout",
     "output_type": "stream",
     "text": [
      "[[ 2.01847313e+00+8.81523778e-17j -1.51950693e-16-6.52509444e-21j\n",
      "  -2.71211980e-17-8.07185251e-17j -1.48145592e-17+3.84316660e-17j]\n",
      " [-3.75757593e-16+1.19589993e-16j  1.69677175e-04-9.14880951e-21j\n",
      "  -4.72149569e-17-3.84500606e-16j -3.05416674e-17+3.25746593e-16j]\n",
      " [ 2.32863203e-16-9.48622693e-17j -1.19020190e-16-8.59942754e-18j\n",
      "   3.66737455e-01+1.27077152e-01j -3.05311332e-16-1.66533454e-16j]\n",
      " [ 1.31930105e-16-7.92483514e-17j -1.17306717e-16+5.36597370e-17j\n",
      "  -2.49800181e-16+2.63677968e-16j  3.66737455e-01-1.27077152e-01j]]\n"
     ]
    }
   ],
   "source": [
    "print(np.linalg.inv(vecs)@M@vecs)"
   ]
  },
  {
   "cell_type": "code",
   "execution_count": 36,
   "id": "f7a715d1-6f56-4355-aff6-ca2645451095",
   "metadata": {},
   "outputs": [
    {
     "data": {
      "text/plain": [
       "<matplotlib.image.AxesImage at 0x7f1d7c9eedd0>"
      ]
     },
     "execution_count": 36,
     "metadata": {},
     "output_type": "execute_result"
    },
    {
     "data": {
      "image/png": "[encoded data removed]",
      "text/plain": [
       "<Figure size 288x288 with 1 Axes>"
      ]
     },
     "metadata": {
      "needs_background": "light"
     },
     "output_type": "display_data"
    }
   ],
   "source": [
    "plt.matshow(abs(np.linalg.inv(vecs)@M@vecs))"
   ]
  },
  {
   "cell_type": "code",
   "execution_count": 41,
   "id": "3381dd4d-38a4-44d2-bc73-3565e673b5bb",
   "metadata": {},
   "outputs": [
    {
     "name": "stdout",
     "output_type": "stream",
     "text": [
      "[[ 2.01847313e+00-4.30870073e-17j -3.59631963e-14+2.95363049e-19j\n",
      "  -3.87152524e-16+5.26949565e-17j -3.76387854e-16-2.75498371e-17j]\n",
      " [-3.12713206e-18-4.79553724e-19j  1.69677175e-04+3.59334058e-21j\n",
      "  -1.30788374e-18-8.00956474e-18j -1.35038825e-18+8.01395568e-18j]\n",
      " [ 1.49652911e-16+1.28247114e-16j -3.40907882e-15-2.37172283e-15j\n",
      "   3.66737455e-01+1.27077152e-01j -1.66533454e-16-3.05311332e-16j]\n",
      " [ 1.24061943e-16-1.28247114e-16j -3.39003746e-15+2.37172283e-15j\n",
      "  -1.11022302e-16+3.46944695e-16j  3.66737455e-01-1.27077152e-01j]]\n"
     ]
    }
   ],
   "source": [
    "print(np.linalg.inv(scaled_vecs)@M@scaled_vecs)"
   ]
  },
  {
   "cell_type": "code",
   "execution_count": 39,
   "id": "e4e76ea5-dec3-4721-b7cf-463425ca28d7",
   "metadata": {},
   "outputs": [
    {
     "data": {
      "text/plain": [
       "<matplotlib.image.AxesImage at 0x7f1d7c78a650>"
      ]
     },
     "execution_count": 39,
     "metadata": {},
     "output_type": "execute_result"
    },
    {
     "data": {
      "image/png": "[encoded data removed]",
      "text/plain": [
       "<Figure size 288x288 with 1 Axes>"
      ]
     },
     "metadata": {
      "needs_background": "light"
     },
     "output_type": "display_data"
    }
   ],
   "source": [
    "plt.matshow(abs(np.linalg.inv(scaled_vecs)@M@scaled_vecs))"
   ]
  },
  {
   "cell_type": "code",
   "execution_count": null,
   "id": "dcee60a4-03e1-4353-abce-b29658ae3a83",
   "metadata": {},
   "outputs": [],
   "source": []
  }
 ],
 "metadata": {
  "kernelspec": {
   "display_name": "Python 3 (ipykernel)",
   "language": "python",
   "name": "python3"
  },
  "language_info": {
   "codemirror_mode": {
    "name": "ipython",
    "version": 3
   },
   "file_extension": ".py",
   "mimetype": "text/x-python",
   "name": "python",
   "nbconvert_exporter": "python",
   "pygments_lexer": "ipython3",
   "version": "3.10.4"
  }
 },
 "nbformat": 4,
 "nbformat_minor": 5
}
